{
 "cells": [
  {
   "cell_type": "markdown",
   "id": "385eced7",
   "metadata": {},
   "source": [
    "# 使用 requests 練習 HTTP 請求\n",
    "\n",
    "透過 `httpbin.org` 來練習使用 Python 的 `requests` 套件送出各種 HTTP 請求，並觀察回應。"
   ]
  },
  {
   "cell_type": "code",
   "execution_count": 1,
   "id": "6ac09aab",
   "metadata": {},
   "outputs": [
    {
     "name": "stdout",
     "output_type": "stream",
     "text": [
      "Requirement already satisfied: requests in /home/codespace/.local/lib/python3.12/site-packages (2.32.3)\n",
      "Requirement already satisfied: charset-normalizer<4,>=2 in /home/codespace/.local/lib/python3.12/site-packages (from requests) (3.4.2)\n",
      "Requirement already satisfied: idna<4,>=2.5 in /home/codespace/.local/lib/python3.12/site-packages (from requests) (3.10)\n",
      "Requirement already satisfied: urllib3<3,>=1.21.1 in /home/codespace/.local/lib/python3.12/site-packages (from requests) (2.4.0)\n",
      "Requirement already satisfied: certifi>=2017.4.17 in /home/codespace/.local/lib/python3.12/site-packages (from requests) (2025.4.26)\n"
     ]
    }
   ],
   "source": [
    "!pip install requests"
   ]
  },
  {
   "cell_type": "markdown",
   "id": "25ce5962",
   "metadata": {},
   "source": [
    "## Step 1：基本 GET 請求"
   ]
  },
  {
   "cell_type": "code",
   "execution_count": 2,
   "id": "d668a482",
   "metadata": {},
   "outputs": [
    {
     "name": "stdout",
     "output_type": "stream",
     "text": [
      "Status Code: 200\n",
      "Response JSON: {'args': {}, 'headers': {'Accept': '*/*', 'Accept-Encoding': 'gzip, deflate', 'Host': 'httpbin.org', 'User-Agent': 'python-requests/2.32.3', 'X-Amzn-Trace-Id': 'Root=1-68609b69-050438c91c86705c313435e2'}, 'origin': '23.97.62.133', 'url': 'https://httpbin.org/get'}\n"
     ]
    }
   ],
   "source": [
    "import requests\n",
    "\n",
    "response = requests.get(\"https://httpbin.org/get\")\n",
    "print(\"Status Code:\", response.status_code)\n",
    "print(\"Response JSON:\", response.json())"
   ]
  },
  {
   "cell_type": "markdown",
   "id": "49e84739",
   "metadata": {},
   "source": [
    "## Step 2：GET 請求 + 傳遞參數"
   ]
  },
  {
   "cell_type": "code",
   "execution_count": 3,
   "id": "76f29138",
   "metadata": {},
   "outputs": [
    {
     "name": "stdout",
     "output_type": "stream",
     "text": [
      "Request URL: https://httpbin.org/get?name=Alan&lang=Python\n",
      "Response JSON: {'args': {'lang': 'Python', 'name': 'Alan'}, 'headers': {'Accept': '*/*', 'Accept-Encoding': 'gzip, deflate', 'Host': 'httpbin.org', 'User-Agent': 'python-requests/2.32.3', 'X-Amzn-Trace-Id': 'Root=1-68609b73-47d7ee5b0706419a1f3f3460'}, 'origin': '23.97.62.133', 'url': 'https://httpbin.org/get?name=Alan&lang=Python'}\n"
     ]
    }
   ],
   "source": [
    "params = {\"name\": \"Alan\", \"lang\": \"Python\"}\n",
    "response = requests.get(\"https://httpbin.org/get\", params=params)\n",
    "\n",
    "print(\"Request URL:\", response.url)\n",
    "print(\"Response JSON:\", response.json())"
   ]
  },
  {
   "cell_type": "markdown",
   "id": "c8e270f0",
   "metadata": {},
   "source": [
    "## Step 3：POST 請求 + 傳遞資料（form data）"
   ]
  },
  {
   "cell_type": "code",
   "execution_count": 4,
   "id": "19184e13",
   "metadata": {},
   "outputs": [
    {
     "name": "stdout",
     "output_type": "stream",
     "text": [
      "Response JSON: {'args': {}, 'data': '', 'files': {}, 'form': {'password': '123456', 'username': 'alan'}, 'headers': {'Accept': '*/*', 'Accept-Encoding': 'gzip, deflate', 'Content-Length': '29', 'Content-Type': 'application/x-www-form-urlencoded', 'Host': 'httpbin.org', 'User-Agent': 'python-requests/2.32.3', 'X-Amzn-Trace-Id': 'Root=1-68609b84-2e34ce2b658ecdd44bd09117'}, 'json': None, 'origin': '23.97.62.133', 'url': 'https://httpbin.org/post'}\n"
     ]
    }
   ],
   "source": [
    "data = {\"username\": \"alan\", \"password\": \"123456\"}\n",
    "response = requests.post(\"https://httpbin.org/post\", data=data)\n",
    "\n",
    "print(\"Response JSON:\", response.json())"
   ]
  },
  {
   "cell_type": "markdown",
   "id": "cf549020",
   "metadata": {},
   "source": [
    "## Step 4：POST 請求 + 傳遞 JSON"
   ]
  },
  {
   "cell_type": "code",
   "execution_count": 5,
   "id": "9e1262eb",
   "metadata": {},
   "outputs": [
    {
     "name": "stdout",
     "output_type": "stream",
     "text": [
      "Sent JSON: b'{\"task\": \"learn requests\", \"done\": false}'\n",
      "Response JSON: {'args': {}, 'data': '{\"task\": \"learn requests\", \"done\": false}', 'files': {}, 'form': {}, 'headers': {'Accept': '*/*', 'Accept-Encoding': 'gzip, deflate', 'Content-Length': '41', 'Content-Type': 'application/json', 'Host': 'httpbin.org', 'User-Agent': 'python-requests/2.32.3', 'X-Amzn-Trace-Id': 'Root=1-68609b8a-7e4ff96b04add90c0c2db6d7'}, 'json': {'done': False, 'task': 'learn requests'}, 'origin': '23.97.62.133', 'url': 'https://httpbin.org/post'}\n"
     ]
    }
   ],
   "source": [
    "json_data = {\"task\": \"learn requests\", \"done\": False}\n",
    "response = requests.post(\"https://httpbin.org/post\", json=json_data)\n",
    "\n",
    "print(\"Sent JSON:\", response.request.body)\n",
    "print(\"Response JSON:\", response.json())"
   ]
  },
  {
   "cell_type": "markdown",
   "id": "b2ac2f01",
   "metadata": {},
   "source": [
    "## Step 5：送出自訂 Header"
   ]
  },
  {
   "cell_type": "code",
   "execution_count": 6,
   "id": "2b9a42af",
   "metadata": {},
   "outputs": [
    {
     "name": "stdout",
     "output_type": "stream",
     "text": [
      "Response Headers: {'headers': {'Accept': '*/*', 'Accept-Encoding': 'gzip, deflate', 'Host': 'httpbin.org', 'User-Agent': 'MyTestAgent/1.0', 'X-Amzn-Trace-Id': 'Root=1-68609b92-29b28e23253860264446b31c', 'X-Test': '12345'}}\n"
     ]
    }
   ],
   "source": [
    "headers = {\"User-Agent\": \"MyTestAgent/1.0\", \"X-Test\": \"12345\"}\n",
    "response = requests.get(\"https://httpbin.org/headers\", headers=headers)\n",
    "\n",
    "print(\"Response Headers:\", response.json())"
   ]
  },
  {
   "cell_type": "markdown",
   "id": "c2a7078c",
   "metadata": {},
   "source": [
    "## Step 6：模擬 PUT 與 DELETE 請求"
   ]
  },
  {
   "cell_type": "code",
   "execution_count": 7,
   "id": "c29f5d0b",
   "metadata": {},
   "outputs": [
    {
     "name": "stdout",
     "output_type": "stream",
     "text": [
      "PUT Response: {'args': {}, 'data': '{\"update\": \"value\"}', 'files': {}, 'form': {}, 'headers': {'Accept': '*/*', 'Accept-Encoding': 'gzip, deflate', 'Content-Length': '19', 'Content-Type': 'application/json', 'Host': 'httpbin.org', 'User-Agent': 'python-requests/2.32.3', 'X-Amzn-Trace-Id': 'Root=1-68609b9b-4431d6625128e9d3300f0ae2'}, 'json': {'update': 'value'}, 'origin': '23.97.62.133', 'url': 'https://httpbin.org/put'}\n",
      "DELETE Response: {'args': {}, 'data': '', 'files': {}, 'form': {}, 'headers': {'Accept': '*/*', 'Accept-Encoding': 'gzip, deflate', 'Content-Length': '0', 'Host': 'httpbin.org', 'User-Agent': 'python-requests/2.32.3', 'X-Amzn-Trace-Id': 'Root=1-68609b9c-2c696b3a5585c8371bcb79db'}, 'json': None, 'origin': '23.97.62.133', 'url': 'https://httpbin.org/delete'}\n"
     ]
    }
   ],
   "source": [
    "response_put = requests.put(\"https://httpbin.org/put\", json={\"update\": \"value\"})\n",
    "print(\"PUT Response:\", response_put.json())\n",
    "\n",
    "response_delete = requests.delete(\"https://httpbin.org/delete\")\n",
    "print(\"DELETE Response:\", response_delete.json())"
   ]
  },
  {
   "cell_type": "markdown",
   "id": "11e9cd6d",
   "metadata": {},
   "source": [
    "## Step 7：處理錯誤與狀態碼"
   ]
  },
  {
   "cell_type": "code",
   "execution_count": 8,
   "id": "4a6beb59",
   "metadata": {},
   "outputs": [
    {
     "name": "stdout",
     "output_type": "stream",
     "text": [
      "找不到資源！\n"
     ]
    }
   ],
   "source": [
    "response = requests.get(\"https://httpbin.org/status/404\")\n",
    "\n",
    "if response.status_code == 404:\n",
    "    print(\"找不到資源！\")\n",
    "else:\n",
    "    print(\"狀態碼：\", response.status_code)"
   ]
  }
 ],
 "metadata": {
  "kernelspec": {
   "display_name": "Python 3",
   "language": "python",
   "name": "python3"
  },
  "language_info": {
   "codemirror_mode": {
    "name": "ipython",
    "version": 3
   },
   "file_extension": ".py",
   "mimetype": "text/x-python",
   "name": "python",
   "nbconvert_exporter": "python",
   "pygments_lexer": "ipython3",
   "version": "3.12.1"
  }
 },
 "nbformat": 4,
 "nbformat_minor": 5
}
