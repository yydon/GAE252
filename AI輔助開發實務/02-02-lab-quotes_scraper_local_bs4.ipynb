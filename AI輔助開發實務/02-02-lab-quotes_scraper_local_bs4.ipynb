{
 "cells": [
  {
   "cell_type": "markdown",
   "id": "0d544e97",
   "metadata": {},
   "source": [
    "# 使用 BeautifulSoup 讀取本地 HTML 並用 CSS Selector 與 Regex 抓取名言\n",
    "\n",
    "這個 Notebook 示範如何：\n",
    "\n",
    "- 使用 `requests` 下載 https://quotes.toscrape.com 網頁並儲存為本地檔案\n",
    "- 讀取本地 HTML 檔案\n",
    "- 用 BeautifulSoup 搭配 CSS Selector 擷取資料\n",
    "- 用正規表達式 (regex) 篩選文字\n"
   ]
  },
  {
   "cell_type": "code",
   "execution_count": 1,
   "id": "0de01ce8",
   "metadata": {},
   "outputs": [
    {
     "name": "stdout",
     "output_type": "stream",
     "text": [
      "已下載並儲存 quotes.html\n"
     ]
    }
   ],
   "source": [
    "import requests\n",
    "\n",
    "# 下載網頁並存成本地檔案 quotes.html\n",
    "url = \"https://quotes.toscrape.com/\"\n",
    "response = requests.get(url)\n",
    "with open(\"quotes.html\", \"w\", encoding=\"utf-8\") as f:\n",
    "    f.write(response.text)\n",
    "\n",
    "print(\"已下載並儲存 quotes.html\")"
   ]
  },
  {
   "cell_type": "code",
   "execution_count": null,
   "id": "e0e9d743",
   "metadata": {},
   "outputs": [],
   "source": [
    "# 確認本地檔案是否有成功下載\n",
    "!head -20 quotes.html"
   ]
  },
  {
   "cell_type": "code",
   "execution_count": null,
   "id": "0a3d6d80",
   "metadata": {},
   "outputs": [],
   "source": [
    "from bs4 import BeautifulSoup\n",
    "\n",
    "# 讀取本地 HTML 檔案\n",
    "with open(\"quotes.html\", \"r\", encoding=\"utf-8\") as f:\n",
    "    html = f.read()\n",
    "\n",
    "# 解析 HTML\n",
    "soup = BeautifulSoup(html, \"html.parser\")\n",
    "\n",
    "# 查詢所有 quote 區塊\n",
    "quotes = soup.select(\".quote\")\n",
    "print(f\"共找到 {len(quotes)} 則名言\")"
   ]
  },
  {
   "cell_type": "code",
   "execution_count": null,
   "id": "a54530db",
   "metadata": {},
   "outputs": [],
   "source": [
    "# 範例：抓取第一則名言的內容、作者、標籤\n",
    "first = quotes[0]\n",
    "text = first.select_one(\".text\").get_text()\n",
    "author = first.select_one(\".author\").get_text()\n",
    "tags = [tag.get_text() for tag in first.select(\".tags .tag\")]\n",
    "\n",
    "print(\"名言:\", text)\n",
    "print(\"作者:\", author)\n",
    "print(\"標籤:\", tags)"
   ]
  },
  {
   "cell_type": "markdown",
   "id": "83cda705",
   "metadata": {},
   "source": [
    "## 用正規表達式過濾名言內容\n",
    "\n",
    "找出所有包含「life」字眼的名言："
   ]
  },
  {
   "cell_type": "code",
   "execution_count": null,
   "id": "1966634c",
   "metadata": {},
   "outputs": [],
   "source": [
    "import re\n",
    "\n",
    "# 找出所有含有 \"life\" 的名言\n",
    "pattern = re.compile(\"life\", re.IGNORECASE)\n",
    "\n",
    "life_quotes = []\n",
    "for quote in quotes:\n",
    "    text = quote.select_one(\".text\").get_text()\n",
    "    if pattern.search(text):\n",
    "        author = quote.select_one(\".author\").get_text()\n",
    "        life_quotes.append({\"text\": text, \"author\": author})\n",
    "\n",
    "print(f\"共找到 {len(life_quotes)} 則含有 'life' 的名言\\n\")\n",
    "\n",
    "for i, q in enumerate(life_quotes[:5], 1):\n",
    "    print(f\"{i}. {q['text']} -- {q['author']}\")"
   ]
  },
  {
   "cell_type": "markdown",
   "id": "e0ea7d7e",
   "metadata": {},
   "source": [
    "## 用正規表達式過濾作者名稱\n",
    "\n",
    "找出所有作者名稱中含有字母 'a' 的作者及其名言："
   ]
  },
  {
   "cell_type": "code",
   "execution_count": null,
   "id": "7f7c3ab4",
   "metadata": {},
   "outputs": [],
   "source": [
    "pattern_author = re.compile(\"a\", re.IGNORECASE)\n",
    "\n",
    "author_a_quotes = []\n",
    "for quote in quotes:\n",
    "    author = quote.select_one(\".author\").get_text()\n",
    "    if pattern_author.search(author):\n",
    "        text = quote.select_one(\".text\").get_text()\n",
    "        author_a_quotes.append({\"author\": author, \"text\": text})\n",
    "\n",
    "print(f\"共找到 {len(author_a_quotes)} 位作者名稱含 'a' 的名言\\n\")\n",
    "\n",
    "for i, q in enumerate(author_a_quotes[:5], 1):\n",
    "    print(f\"{i}. {q['author']}: {q['text']}\")"
   ]
  },
  {
   "cell_type": "markdown",
   "id": "f21486ef",
   "metadata": {},
   "source": [
    "## 將所有名言組成結構化清單\n",
    "\n",
    "將每則名言的文字、作者與標籤整理成字典並存入列表中："
   ]
  },
  {
   "cell_type": "code",
   "execution_count": null,
   "id": "89618154",
   "metadata": {},
   "outputs": [],
   "source": [
    "all_quotes = []\n",
    "for quote in quotes:\n",
    "    text = quote.select_one(\".text\").get_text()\n",
    "    author = quote.select_one(\".author\").get_text()\n",
    "    tags = [tag.get_text() for tag in quote.select(\".tags .tag\")]\n",
    "    all_quotes.append({\n",
    "        \"text\": text,\n",
    "        \"author\": author,\n",
    "        \"tags\": tags\n",
    "    })\n",
    "\n",
    "print(f\"共整理 {len(all_quotes)} 則名言\")\n",
    "print(all_quotes[:2])  # 顯示前兩筆資料"
   ]
  }
 ],
 "metadata": {
  "kernelspec": {
   "display_name": "Python 3",
   "language": "python",
   "name": "python3"
  },
  "language_info": {
   "codemirror_mode": {
    "name": "ipython",
    "version": 3
   },
   "file_extension": ".py",
   "mimetype": "text/x-python",
   "name": "python",
   "nbconvert_exporter": "python",
   "pygments_lexer": "ipython3",
   "version": "3.12.1"
  }
 },
 "nbformat": 4,
 "nbformat_minor": 5
}
