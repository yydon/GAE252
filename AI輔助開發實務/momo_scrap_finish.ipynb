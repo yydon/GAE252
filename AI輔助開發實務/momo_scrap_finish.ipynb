{
 "cells": [
  {
   "cell_type": "markdown",
   "id": "3677dc75",
   "metadata": {},
   "source": [
    "## Scrap 動態網頁\n",
    "\n",
    "這個是用來 Demo 如何 scrap 動態網頁\n",
    "\n",
    "假設被提出，想要從 momo 找出【汽車手機支架】的商品清單\n",
    "我們發現這頁\n",
    "https://www.momoshop.com.tw/search/searchShop.jsp?keyword=%E6%B1%BD%E8%BB%8A%E6%89%8B%E6%A9%9F%E6%94%AF%E6%9E%B6&searchType=1&curPage=1&showType=chessboardType&serviceCode=MT01&cateCode=&t=1746025953019&_isFuzzy=0&_advPriceS=0&_advPriceE=300\n",
    "\n",
    "最後想要可以變成 JSON 的產品清單，譬如說：\n",
    "```json\n",
    "[{'@type': 'Product',\n",
    "  'description': '滿1件享8折',\n",
    "  'image': 'https://img1.momoshop.com.tw/goodsimg/0014/037/410/14037410_OL.jpg?t=1747795659',\n",
    "  'name': '【KT BIKER】RX 23-25年 14吋螢幕底座+M3無線充黑(Lexus 螢幕手機架 專用手機架 車用手機架)',\n",
    "  'offers': {'@type': 'Offer',\n",
    "             'availability': 'https://schema.org/InStock',\n",
    "             'price': '699',\n",
    "             'priceCurrency': 'TWD'},\n",
    "  'position': '1',\n",
    "  'url': 'https://www.momoshop.com.tw/goods/GoodsDetail.jsp?i_code=14037410&Area=search&mdiv=403&oid=1_1&cid=index&kw=%E6%B1%BD%E8%BB%8A%E6%89%8B%E6%A9%9F%E6%94%AF%E6%9E%B6'},\n",
    " }]\n",
    "\n",
    " 可以如何達到？"
   ]
  },
  {
   "cell_type": "markdown",
   "id": "9a8eb99c",
   "metadata": {},
   "source": [
    "ChatGPT 對話\n",
    "https://chatgpt.com/share/685ff719-987c-800f-be43-85acfd0c9b2d"
   ]
  },
  {
   "cell_type": "markdown",
   "id": "540d7be2",
   "metadata": {},
   "source": [
    "## selenium"
   ]
  },
  {
   "cell_type": "markdown",
   "id": "958c1d9f",
   "metadata": {},
   "source": [
    "> 我想要用 python web scrap 這個網站這頁的產品清單\n",
    "https://www.momoshop.com.tw/search/searchShop.jsp?keyword=%E6%B1%BD%E8%BB%8A%E6%89%8B%E6%A9%9F%E6%94%AF%E6%9E%B6&searchType=1&curPage=1&showType=chessboardType&serviceCode=MT01&cateCode=&t=1746025953019&_isFuzzy=0&_advPriceS=0&_advPriceE=300  \n",
    "可以如何做？\n",
    "\n",
    "他建議可以找 API，不過想要用 scrap 方式\n",
    "\n",
    "> 如果我是 selenium 然後在 github codespace 上面的 jupyter notebook 執行  \n",
    "可以如何做？"
   ]
  },
  {
   "cell_type": "code",
   "execution_count": 1,
   "id": "f9f5f77a",
   "metadata": {},
   "outputs": [
    {
     "name": "stdout",
     "output_type": "stream",
     "text": [
      "Reading package lists... Done\n",
      "E: Could not open lock file /var/lib/apt/lists/lock - open (13: Permission denied)\n",
      "E: Unable to lock directory /var/lib/apt/lists/\n",
      "E: Could not open lock file /var/lib/dpkg/lock-frontend - open (13: Permission denied)\n",
      "E: Unable to acquire the dpkg frontend lock (/var/lib/dpkg/lock-frontend), are you root?\n",
      "--2025-06-28 13:47:48--  https://dl.google.com/linux/direct/google-chrome-stable_current_amd64.deb\n",
      "Resolving dl.google.com (dl.google.com)... 142.250.4.93, 142.250.4.91, 142.250.4.136, ...\n",
      "Connecting to dl.google.com (dl.google.com)|142.250.4.93|:443... connected.\n",
      "HTTP request sent, awaiting response... 200 OK\n",
      "Length: 118033016 (113M) [application/x-debian-package]\n",
      "Saving to: ‘google-chrome-stable_current_amd64.deb’\n",
      "\n",
      "google-chrome-stabl 100%[===================>] 112.56M  87.3MB/s    in 1.3s    \n",
      "\n",
      "2025-06-28 13:47:49 (87.3 MB/s) - ‘google-chrome-stable_current_amd64.deb’ saved [118033016/118033016]\n",
      "\n",
      "\u001b[1;31mE: \u001b[0mCould not open lock file /var/lib/dpkg/lock-frontend - open (13: Permission denied)\u001b[0m\n",
      "\u001b[1;31mE: \u001b[0mUnable to acquire the dpkg frontend lock (/var/lib/dpkg/lock-frontend), are you root?\u001b[0m\n",
      "/bin/bash: line 1: google-chrome: command not found\n",
      "--2025-06-28 13:47:50--  https://chromedriver.storage.googleapis.com/.0.0/chromedriver_linux64.zip\n",
      "Resolving chromedriver.storage.googleapis.com (chromedriver.storage.googleapis.com)... 74.125.24.207, 172.217.70.207, 172.253.118.207, ...\n",
      "Connecting to chromedriver.storage.googleapis.com (chromedriver.storage.googleapis.com)|74.125.24.207|:443... connected.\n",
      "HTTP request sent, awaiting response... 404 Not Found\n",
      "2025-06-28 13:47:51 ERROR 404: Not Found.\n",
      "\n",
      "Defaulting to user installation because normal site-packages is not writeable\n",
      "Requirement already satisfied: selenium in /home/vscode/.local/lib/python3.12/site-packages (4.33.0)\n",
      "Collecting webdriver-manager\n",
      "  Downloading webdriver_manager-4.0.2-py2.py3-none-any.whl.metadata (12 kB)\n",
      "Requirement already satisfied: beautifulsoup4 in /home/vscode/.local/lib/python3.12/site-packages (4.13.4)\n",
      "Requirement already satisfied: urllib3~=2.4.0 in /home/vscode/.local/lib/python3.12/site-packages (from urllib3[socks]~=2.4.0->selenium) (2.4.0)\n",
      "Requirement already satisfied: trio~=0.30.0 in /home/vscode/.local/lib/python3.12/site-packages (from selenium) (0.30.0)\n",
      "Requirement already satisfied: trio-websocket~=0.12.2 in /home/vscode/.local/lib/python3.12/site-packages (from selenium) (0.12.2)\n",
      "Requirement already satisfied: certifi>=2025.4.26 in /home/vscode/.local/lib/python3.12/site-packages (from selenium) (2025.6.15)\n",
      "Requirement already satisfied: typing_extensions~=4.13.2 in /home/vscode/.local/lib/python3.12/site-packages (from selenium) (4.13.2)\n",
      "Requirement already satisfied: websocket-client~=1.8.0 in /home/vscode/.local/lib/python3.12/site-packages (from selenium) (1.8.0)\n",
      "Requirement already satisfied: requests in /home/vscode/.local/lib/python3.12/site-packages (from webdriver-manager) (2.32.4)\n",
      "Collecting python-dotenv (from webdriver-manager)\n",
      "  Downloading python_dotenv-1.1.1-py3-none-any.whl.metadata (24 kB)\n",
      "Requirement already satisfied: packaging in /home/vscode/.local/lib/python3.12/site-packages (from webdriver-manager) (25.0)\n",
      "Requirement already satisfied: soupsieve>1.2 in /home/vscode/.local/lib/python3.12/site-packages (from beautifulsoup4) (2.7)\n",
      "Requirement already satisfied: attrs>=23.2.0 in /home/vscode/.local/lib/python3.12/site-packages (from trio~=0.30.0->selenium) (25.3.0)\n",
      "Requirement already satisfied: sortedcontainers in /home/vscode/.local/lib/python3.12/site-packages (from trio~=0.30.0->selenium) (2.4.0)\n",
      "Requirement already satisfied: idna in /home/vscode/.local/lib/python3.12/site-packages (from trio~=0.30.0->selenium) (3.10)\n",
      "Requirement already satisfied: outcome in /home/vscode/.local/lib/python3.12/site-packages (from trio~=0.30.0->selenium) (1.3.0.post0)\n",
      "Requirement already satisfied: sniffio>=1.3.0 in /home/vscode/.local/lib/python3.12/site-packages (from trio~=0.30.0->selenium) (1.3.1)\n",
      "Requirement already satisfied: wsproto>=0.14 in /home/vscode/.local/lib/python3.12/site-packages (from trio-websocket~=0.12.2->selenium) (1.2.0)\n",
      "Requirement already satisfied: pysocks!=1.5.7,<2.0,>=1.5.6 in /home/vscode/.local/lib/python3.12/site-packages (from urllib3[socks]~=2.4.0->selenium) (1.7.1)\n",
      "Requirement already satisfied: charset_normalizer<4,>=2 in /home/vscode/.local/lib/python3.12/site-packages (from requests->webdriver-manager) (3.4.2)\n",
      "Requirement already satisfied: h11<1,>=0.9.0 in /home/vscode/.local/lib/python3.12/site-packages (from wsproto>=0.14->trio-websocket~=0.12.2->selenium) (0.16.0)\n",
      "Downloading webdriver_manager-4.0.2-py2.py3-none-any.whl (27 kB)\n",
      "Downloading python_dotenv-1.1.1-py3-none-any.whl (20 kB)\n",
      "Installing collected packages: python-dotenv, webdriver-manager\n",
      "Successfully installed python-dotenv-1.1.1 webdriver-manager-4.0.2\n",
      "\n",
      "\u001b[1m[\u001b[0m\u001b[34;49mnotice\u001b[0m\u001b[1;39;49m]\u001b[0m\u001b[39;49m A new release of pip is available: \u001b[0m\u001b[31;49m25.0.1\u001b[0m\u001b[39;49m -> \u001b[0m\u001b[32;49m25.1.1\u001b[0m\n",
      "\u001b[1m[\u001b[0m\u001b[34;49mnotice\u001b[0m\u001b[1;39;49m]\u001b[0m\u001b[39;49m To update, run: \u001b[0m\u001b[32;49mpip install --upgrade pip\u001b[0m\n"
     ]
    }
   ],
   "source": [
    "!apt-get update\n",
    "!apt-get install -y wget unzip curl\n",
    "\n",
    "# 安裝 Chrome\n",
    "!wget https://dl.google.com/linux/direct/google-chrome-stable_current_amd64.deb\n",
    "!apt install -y ./google-chrome-stable_current_amd64.deb\n",
    "\n",
    "# 安裝 ChromeDriver\n",
    "!CHROME_VERSION=$(google-chrome --version | cut -d ' ' -f 3 | cut -d '.' -f 1) && \\\n",
    "  wget https://chromedriver.storage.googleapis.com/${CHROME_VERSION}.0.0/chromedriver_linux64.zip && \\\n",
    "  unzip chromedriver_linux64.zip && \\\n",
    "  mv chromedriver /usr/local/bin/ && \\\n",
    "  chmod +x /usr/local/bin/chromedriver\n",
    "\n",
    "# 安裝 Python 套件\n",
    "!pip install selenium webdriver-manager beautifulsoup4\n"
   ]
  },
  {
   "cell_type": "code",
   "execution_count": 2,
   "id": "7d51d1db",
   "metadata": {},
   "outputs": [
    {
     "ename": "WebDriverException",
     "evalue": "Message: unknown error: cannot find Chrome binary\nStacktrace:\n#0 0x555ad23dd4e3 <unknown>\n#1 0x555ad210cc76 <unknown>\n#2 0x555ad2133757 <unknown>\n#3 0x555ad2132029 <unknown>\n#4 0x555ad2170ccc <unknown>\n#5 0x555ad217047f <unknown>\n#6 0x555ad2167de3 <unknown>\n#7 0x555ad213d2dd <unknown>\n#8 0x555ad213e34e <unknown>\n#9 0x555ad239d3e4 <unknown>\n#10 0x555ad23a13d7 <unknown>\n#11 0x555ad23abb20 <unknown>\n#12 0x555ad23a2023 <unknown>\n#13 0x555ad23701aa <unknown>\n#14 0x555ad23c66b8 <unknown>\n#15 0x555ad23c6847 <unknown>\n#16 0x555ad23d6243 <unknown>\n#17 0x782b9b982ea7 start_thread\n",
     "output_type": "error",
     "traceback": [
      "\u001b[31m---------------------------------------------------------------------------\u001b[39m",
      "\u001b[31mWebDriverException\u001b[39m                        Traceback (most recent call last)",
      "\u001b[36mCell\u001b[39m\u001b[36m \u001b[39m\u001b[32mIn[2]\u001b[39m\u001b[32m, line 15\u001b[39m\n\u001b[32m     12\u001b[39m options.add_argument(\u001b[33m\"\u001b[39m\u001b[33m--window-size=1920,1080\u001b[39m\u001b[33m\"\u001b[39m)\n\u001b[32m     14\u001b[39m \u001b[38;5;66;03m# 啟動 WebDriver\u001b[39;00m\n\u001b[32m---> \u001b[39m\u001b[32m15\u001b[39m driver = \u001b[43mwebdriver\u001b[49m\u001b[43m.\u001b[49m\u001b[43mChrome\u001b[49m\u001b[43m(\u001b[49m\u001b[43mservice\u001b[49m\u001b[43m=\u001b[49m\u001b[43mService\u001b[49m\u001b[43m(\u001b[49m\u001b[43mChromeDriverManager\u001b[49m\u001b[43m(\u001b[49m\u001b[43m)\u001b[49m\u001b[43m.\u001b[49m\u001b[43minstall\u001b[49m\u001b[43m(\u001b[49m\u001b[43m)\u001b[49m\u001b[43m)\u001b[49m\u001b[43m,\u001b[49m\u001b[43m \u001b[49m\u001b[43moptions\u001b[49m\u001b[43m=\u001b[49m\u001b[43moptions\u001b[49m\u001b[43m)\u001b[49m\n\u001b[32m     17\u001b[39m \u001b[38;5;66;03m# momo 搜尋結果頁面\u001b[39;00m\n\u001b[32m     18\u001b[39m url = \u001b[33m\"\u001b[39m\u001b[33mhttps://www.momoshop.com.tw/search/searchShop.jsp?keyword=汽車手機支架&priceE=300\u001b[39m\u001b[33m\"\u001b[39m\n",
      "\u001b[36mFile \u001b[39m\u001b[32m~/.local/lib/python3.12/site-packages/selenium/webdriver/chrome/webdriver.py:47\u001b[39m, in \u001b[36mWebDriver.__init__\u001b[39m\u001b[34m(self, options, service, keep_alive)\u001b[39m\n\u001b[32m     44\u001b[39m service = service \u001b[38;5;28;01mif\u001b[39;00m service \u001b[38;5;28;01melse\u001b[39;00m Service()\n\u001b[32m     45\u001b[39m options = options \u001b[38;5;28;01mif\u001b[39;00m options \u001b[38;5;28;01melse\u001b[39;00m Options()\n\u001b[32m---> \u001b[39m\u001b[32m47\u001b[39m \u001b[38;5;28;43msuper\u001b[39;49m\u001b[43m(\u001b[49m\u001b[43m)\u001b[49m\u001b[43m.\u001b[49m\u001b[34;43m__init__\u001b[39;49m\u001b[43m(\u001b[49m\n\u001b[32m     48\u001b[39m \u001b[43m    \u001b[49m\u001b[43mbrowser_name\u001b[49m\u001b[43m=\u001b[49m\u001b[43mDesiredCapabilities\u001b[49m\u001b[43m.\u001b[49m\u001b[43mCHROME\u001b[49m\u001b[43m[\u001b[49m\u001b[33;43m\"\u001b[39;49m\u001b[33;43mbrowserName\u001b[39;49m\u001b[33;43m\"\u001b[39;49m\u001b[43m]\u001b[49m\u001b[43m,\u001b[49m\n\u001b[32m     49\u001b[39m \u001b[43m    \u001b[49m\u001b[43mvendor_prefix\u001b[49m\u001b[43m=\u001b[49m\u001b[33;43m\"\u001b[39;49m\u001b[33;43mgoog\u001b[39;49m\u001b[33;43m\"\u001b[39;49m\u001b[43m,\u001b[49m\n\u001b[32m     50\u001b[39m \u001b[43m    \u001b[49m\u001b[43moptions\u001b[49m\u001b[43m=\u001b[49m\u001b[43moptions\u001b[49m\u001b[43m,\u001b[49m\n\u001b[32m     51\u001b[39m \u001b[43m    \u001b[49m\u001b[43mservice\u001b[49m\u001b[43m=\u001b[49m\u001b[43mservice\u001b[49m\u001b[43m,\u001b[49m\n\u001b[32m     52\u001b[39m \u001b[43m    \u001b[49m\u001b[43mkeep_alive\u001b[49m\u001b[43m=\u001b[49m\u001b[43mkeep_alive\u001b[49m\u001b[43m,\u001b[49m\n\u001b[32m     53\u001b[39m \u001b[43m\u001b[49m\u001b[43m)\u001b[49m\n",
      "\u001b[36mFile \u001b[39m\u001b[32m~/.local/lib/python3.12/site-packages/selenium/webdriver/chromium/webdriver.py:69\u001b[39m, in \u001b[36mChromiumDriver.__init__\u001b[39m\u001b[34m(self, browser_name, vendor_prefix, options, service, keep_alive)\u001b[39m\n\u001b[32m     60\u001b[39m executor = ChromiumRemoteConnection(\n\u001b[32m     61\u001b[39m     remote_server_addr=\u001b[38;5;28mself\u001b[39m.service.service_url,\n\u001b[32m     62\u001b[39m     browser_name=browser_name,\n\u001b[32m   (...)\u001b[39m\u001b[32m     65\u001b[39m     ignore_proxy=options._ignore_local_proxy,\n\u001b[32m     66\u001b[39m )\n\u001b[32m     68\u001b[39m \u001b[38;5;28;01mtry\u001b[39;00m:\n\u001b[32m---> \u001b[39m\u001b[32m69\u001b[39m     \u001b[38;5;28;43msuper\u001b[39;49m\u001b[43m(\u001b[49m\u001b[43m)\u001b[49m\u001b[43m.\u001b[49m\u001b[34;43m__init__\u001b[39;49m\u001b[43m(\u001b[49m\u001b[43mcommand_executor\u001b[49m\u001b[43m=\u001b[49m\u001b[43mexecutor\u001b[49m\u001b[43m,\u001b[49m\u001b[43m \u001b[49m\u001b[43moptions\u001b[49m\u001b[43m=\u001b[49m\u001b[43moptions\u001b[49m\u001b[43m)\u001b[49m\n\u001b[32m     70\u001b[39m \u001b[38;5;28;01mexcept\u001b[39;00m \u001b[38;5;167;01mException\u001b[39;00m:\n\u001b[32m     71\u001b[39m     \u001b[38;5;28mself\u001b[39m.quit()\n",
      "\u001b[36mFile \u001b[39m\u001b[32m~/.local/lib/python3.12/site-packages/selenium/webdriver/remote/webdriver.py:257\u001b[39m, in \u001b[36mWebDriver.__init__\u001b[39m\u001b[34m(self, command_executor, keep_alive, file_detector, options, locator_converter, web_element_cls, client_config)\u001b[39m\n\u001b[32m    255\u001b[39m \u001b[38;5;28mself\u001b[39m._authenticator_id = \u001b[38;5;28;01mNone\u001b[39;00m\n\u001b[32m    256\u001b[39m \u001b[38;5;28mself\u001b[39m.start_client()\n\u001b[32m--> \u001b[39m\u001b[32m257\u001b[39m \u001b[38;5;28;43mself\u001b[39;49m\u001b[43m.\u001b[49m\u001b[43mstart_session\u001b[49m\u001b[43m(\u001b[49m\u001b[43mcapabilities\u001b[49m\u001b[43m)\u001b[49m\n\u001b[32m    258\u001b[39m \u001b[38;5;28mself\u001b[39m._fedcm = FedCM(\u001b[38;5;28mself\u001b[39m)\n\u001b[32m    260\u001b[39m \u001b[38;5;28mself\u001b[39m._websocket_connection = \u001b[38;5;28;01mNone\u001b[39;00m\n",
      "\u001b[36mFile \u001b[39m\u001b[32m~/.local/lib/python3.12/site-packages/selenium/webdriver/remote/webdriver.py:356\u001b[39m, in \u001b[36mWebDriver.start_session\u001b[39m\u001b[34m(self, capabilities)\u001b[39m\n\u001b[32m    354\u001b[39m caps = _create_caps(capabilities)\n\u001b[32m    355\u001b[39m \u001b[38;5;28;01mtry\u001b[39;00m:\n\u001b[32m--> \u001b[39m\u001b[32m356\u001b[39m     response = \u001b[38;5;28;43mself\u001b[39;49m\u001b[43m.\u001b[49m\u001b[43mexecute\u001b[49m\u001b[43m(\u001b[49m\u001b[43mCommand\u001b[49m\u001b[43m.\u001b[49m\u001b[43mNEW_SESSION\u001b[49m\u001b[43m,\u001b[49m\u001b[43m \u001b[49m\u001b[43mcaps\u001b[49m\u001b[43m)\u001b[49m[\u001b[33m\"\u001b[39m\u001b[33mvalue\u001b[39m\u001b[33m\"\u001b[39m]\n\u001b[32m    357\u001b[39m     \u001b[38;5;28mself\u001b[39m.session_id = response.get(\u001b[33m\"\u001b[39m\u001b[33msessionId\u001b[39m\u001b[33m\"\u001b[39m)\n\u001b[32m    358\u001b[39m     \u001b[38;5;28mself\u001b[39m.caps = response.get(\u001b[33m\"\u001b[39m\u001b[33mcapabilities\u001b[39m\u001b[33m\"\u001b[39m)\n",
      "\u001b[36mFile \u001b[39m\u001b[32m~/.local/lib/python3.12/site-packages/selenium/webdriver/remote/webdriver.py:447\u001b[39m, in \u001b[36mWebDriver.execute\u001b[39m\u001b[34m(self, driver_command, params)\u001b[39m\n\u001b[32m    445\u001b[39m response = \u001b[38;5;28mself\u001b[39m.command_executor.execute(driver_command, params)\n\u001b[32m    446\u001b[39m \u001b[38;5;28;01mif\u001b[39;00m response:\n\u001b[32m--> \u001b[39m\u001b[32m447\u001b[39m     \u001b[38;5;28;43mself\u001b[39;49m\u001b[43m.\u001b[49m\u001b[43merror_handler\u001b[49m\u001b[43m.\u001b[49m\u001b[43mcheck_response\u001b[49m\u001b[43m(\u001b[49m\u001b[43mresponse\u001b[49m\u001b[43m)\u001b[49m\n\u001b[32m    448\u001b[39m     response[\u001b[33m\"\u001b[39m\u001b[33mvalue\u001b[39m\u001b[33m\"\u001b[39m] = \u001b[38;5;28mself\u001b[39m._unwrap_value(response.get(\u001b[33m\"\u001b[39m\u001b[33mvalue\u001b[39m\u001b[33m\"\u001b[39m, \u001b[38;5;28;01mNone\u001b[39;00m))\n\u001b[32m    449\u001b[39m     \u001b[38;5;28;01mreturn\u001b[39;00m response\n",
      "\u001b[36mFile \u001b[39m\u001b[32m~/.local/lib/python3.12/site-packages/selenium/webdriver/remote/errorhandler.py:232\u001b[39m, in \u001b[36mErrorHandler.check_response\u001b[39m\u001b[34m(self, response)\u001b[39m\n\u001b[32m    230\u001b[39m         alert_text = value[\u001b[33m\"\u001b[39m\u001b[33malert\u001b[39m\u001b[33m\"\u001b[39m].get(\u001b[33m\"\u001b[39m\u001b[33mtext\u001b[39m\u001b[33m\"\u001b[39m)\n\u001b[32m    231\u001b[39m     \u001b[38;5;28;01mraise\u001b[39;00m exception_class(message, screen, stacktrace, alert_text)  \u001b[38;5;66;03m# type: ignore[call-arg]  # mypy is not smart enough here\u001b[39;00m\n\u001b[32m--> \u001b[39m\u001b[32m232\u001b[39m \u001b[38;5;28;01mraise\u001b[39;00m exception_class(message, screen, stacktrace)\n",
      "\u001b[31mWebDriverException\u001b[39m: Message: unknown error: cannot find Chrome binary\nStacktrace:\n#0 0x555ad23dd4e3 <unknown>\n#1 0x555ad210cc76 <unknown>\n#2 0x555ad2133757 <unknown>\n#3 0x555ad2132029 <unknown>\n#4 0x555ad2170ccc <unknown>\n#5 0x555ad217047f <unknown>\n#6 0x555ad2167de3 <unknown>\n#7 0x555ad213d2dd <unknown>\n#8 0x555ad213e34e <unknown>\n#9 0x555ad239d3e4 <unknown>\n#10 0x555ad23a13d7 <unknown>\n#11 0x555ad23abb20 <unknown>\n#12 0x555ad23a2023 <unknown>\n#13 0x555ad23701aa <unknown>\n#14 0x555ad23c66b8 <unknown>\n#15 0x555ad23c6847 <unknown>\n#16 0x555ad23d6243 <unknown>\n#17 0x782b9b982ea7 start_thread\n"
     ]
    }
   ],
   "source": [
    "from selenium import webdriver\n",
    "from selenium.webdriver.chrome.options import Options\n",
    "from selenium.webdriver.chrome.service import Service\n",
    "from webdriver_manager.chrome import ChromeDriverManager\n",
    "import time\n",
    "\n",
    "# 設定 Headless Chrome\n",
    "options = Options()\n",
    "options.add_argument(\"--headless\")\n",
    "options.add_argument(\"--disable-gpu\")\n",
    "options.add_argument(\"--no-sandbox\")\n",
    "options.add_argument(\"--window-size=1920,1080\")\n",
    "\n",
    "# 啟動 WebDriver\n",
    "driver = webdriver.Chrome(service=Service(ChromeDriverManager().install()), options=options)\n",
    "\n",
    "# momo 搜尋結果頁面\n",
    "url = \"https://www.momoshop.com.tw/search/searchShop.jsp?keyword=汽車手機支架&priceE=300\"\n",
    "driver.get(url)\n",
    "\n",
    "# 等待 JS 載入完成\n",
    "time.sleep(5)\n",
    "\n",
    "# 儲存 HTML 到本地檔案\n",
    "html = driver.page_source\n",
    "with open(\"momo_search_page.html\", \"w\", encoding=\"utf-8\") as f:\n",
    "    f.write(html)\n",
    "\n",
    "driver.quit()\n",
    "\n",
    "print(\"HTML 已儲存\")\n"
   ]
  },
  {
   "cell_type": "markdown",
   "id": "852ada8f",
   "metadata": {},
   "source": [
    "> 執行時候出現  \n",
    "#14 0x555ad23c66b8 <unknown>  \n",
    "#15 0x555ad23c6847 <unknown>  \n",
    "#16 0x555ad23d6243 <unknown>  \n",
    "#17 0x782b9b982ea7 start_thread  \n",
    "可以如何解決？"
   ]
  },
  {
   "cell_type": "code",
   "execution_count": 3,
   "id": "1a8dc368",
   "metadata": {},
   "outputs": [
    {
     "ename": "WebDriverException",
     "evalue": "Message: unknown error: cannot find Chrome binary\nStacktrace:\n#0 0x5ff3e712b4e3 <unknown>\n#1 0x5ff3e6e5ac76 <unknown>\n#2 0x5ff3e6e81757 <unknown>\n#3 0x5ff3e6e80029 <unknown>\n#4 0x5ff3e6ebeccc <unknown>\n#5 0x5ff3e6ebe47f <unknown>\n#6 0x5ff3e6eb5de3 <unknown>\n#7 0x5ff3e6e8b2dd <unknown>\n#8 0x5ff3e6e8c34e <unknown>\n#9 0x5ff3e70eb3e4 <unknown>\n#10 0x5ff3e70ef3d7 <unknown>\n#11 0x5ff3e70f9b20 <unknown>\n#12 0x5ff3e70f0023 <unknown>\n#13 0x5ff3e70be1aa <unknown>\n#14 0x5ff3e71146b8 <unknown>\n#15 0x5ff3e7114847 <unknown>\n#16 0x5ff3e7124243 <unknown>\n#17 0x79d803f03ea7 start_thread\n",
     "output_type": "error",
     "traceback": [
      "\u001b[31m---------------------------------------------------------------------------\u001b[39m",
      "\u001b[31mWebDriverException\u001b[39m                        Traceback (most recent call last)",
      "\u001b[36mCell\u001b[39m\u001b[36m \u001b[39m\u001b[32mIn[3]\u001b[39m\u001b[32m, line 15\u001b[39m\n\u001b[32m     12\u001b[39m options.add_argument(\u001b[33m\"\u001b[39m\u001b[33m--window-size=1920,1080\u001b[39m\u001b[33m\"\u001b[39m)\n\u001b[32m     14\u001b[39m service = Service(ChromeDriverManager().install())\n\u001b[32m---> \u001b[39m\u001b[32m15\u001b[39m driver = \u001b[43mwebdriver\u001b[49m\u001b[43m.\u001b[49m\u001b[43mChrome\u001b[49m\u001b[43m(\u001b[49m\u001b[43mservice\u001b[49m\u001b[43m=\u001b[49m\u001b[43mservice\u001b[49m\u001b[43m,\u001b[49m\u001b[43m \u001b[49m\u001b[43moptions\u001b[49m\u001b[43m=\u001b[49m\u001b[43moptions\u001b[49m\u001b[43m)\u001b[49m\n\u001b[32m     17\u001b[39m \u001b[38;5;28;01mtry\u001b[39;00m:\n\u001b[32m     18\u001b[39m     url = \u001b[33m\"\u001b[39m\u001b[33mhttps://www.momoshop.com.tw/search/searchShop.jsp?keyword=汽車手機支架&priceE=300\u001b[39m\u001b[33m\"\u001b[39m\n",
      "\u001b[36mFile \u001b[39m\u001b[32m~/.local/lib/python3.12/site-packages/selenium/webdriver/chrome/webdriver.py:47\u001b[39m, in \u001b[36mWebDriver.__init__\u001b[39m\u001b[34m(self, options, service, keep_alive)\u001b[39m\n\u001b[32m     44\u001b[39m service = service \u001b[38;5;28;01mif\u001b[39;00m service \u001b[38;5;28;01melse\u001b[39;00m Service()\n\u001b[32m     45\u001b[39m options = options \u001b[38;5;28;01mif\u001b[39;00m options \u001b[38;5;28;01melse\u001b[39;00m Options()\n\u001b[32m---> \u001b[39m\u001b[32m47\u001b[39m \u001b[38;5;28;43msuper\u001b[39;49m\u001b[43m(\u001b[49m\u001b[43m)\u001b[49m\u001b[43m.\u001b[49m\u001b[34;43m__init__\u001b[39;49m\u001b[43m(\u001b[49m\n\u001b[32m     48\u001b[39m \u001b[43m    \u001b[49m\u001b[43mbrowser_name\u001b[49m\u001b[43m=\u001b[49m\u001b[43mDesiredCapabilities\u001b[49m\u001b[43m.\u001b[49m\u001b[43mCHROME\u001b[49m\u001b[43m[\u001b[49m\u001b[33;43m\"\u001b[39;49m\u001b[33;43mbrowserName\u001b[39;49m\u001b[33;43m\"\u001b[39;49m\u001b[43m]\u001b[49m\u001b[43m,\u001b[49m\n\u001b[32m     49\u001b[39m \u001b[43m    \u001b[49m\u001b[43mvendor_prefix\u001b[49m\u001b[43m=\u001b[49m\u001b[33;43m\"\u001b[39;49m\u001b[33;43mgoog\u001b[39;49m\u001b[33;43m\"\u001b[39;49m\u001b[43m,\u001b[49m\n\u001b[32m     50\u001b[39m \u001b[43m    \u001b[49m\u001b[43moptions\u001b[49m\u001b[43m=\u001b[49m\u001b[43moptions\u001b[49m\u001b[43m,\u001b[49m\n\u001b[32m     51\u001b[39m \u001b[43m    \u001b[49m\u001b[43mservice\u001b[49m\u001b[43m=\u001b[49m\u001b[43mservice\u001b[49m\u001b[43m,\u001b[49m\n\u001b[32m     52\u001b[39m \u001b[43m    \u001b[49m\u001b[43mkeep_alive\u001b[49m\u001b[43m=\u001b[49m\u001b[43mkeep_alive\u001b[49m\u001b[43m,\u001b[49m\n\u001b[32m     53\u001b[39m \u001b[43m\u001b[49m\u001b[43m)\u001b[49m\n",
      "\u001b[36mFile \u001b[39m\u001b[32m~/.local/lib/python3.12/site-packages/selenium/webdriver/chromium/webdriver.py:69\u001b[39m, in \u001b[36mChromiumDriver.__init__\u001b[39m\u001b[34m(self, browser_name, vendor_prefix, options, service, keep_alive)\u001b[39m\n\u001b[32m     60\u001b[39m executor = ChromiumRemoteConnection(\n\u001b[32m     61\u001b[39m     remote_server_addr=\u001b[38;5;28mself\u001b[39m.service.service_url,\n\u001b[32m     62\u001b[39m     browser_name=browser_name,\n\u001b[32m   (...)\u001b[39m\u001b[32m     65\u001b[39m     ignore_proxy=options._ignore_local_proxy,\n\u001b[32m     66\u001b[39m )\n\u001b[32m     68\u001b[39m \u001b[38;5;28;01mtry\u001b[39;00m:\n\u001b[32m---> \u001b[39m\u001b[32m69\u001b[39m     \u001b[38;5;28;43msuper\u001b[39;49m\u001b[43m(\u001b[49m\u001b[43m)\u001b[49m\u001b[43m.\u001b[49m\u001b[34;43m__init__\u001b[39;49m\u001b[43m(\u001b[49m\u001b[43mcommand_executor\u001b[49m\u001b[43m=\u001b[49m\u001b[43mexecutor\u001b[49m\u001b[43m,\u001b[49m\u001b[43m \u001b[49m\u001b[43moptions\u001b[49m\u001b[43m=\u001b[49m\u001b[43moptions\u001b[49m\u001b[43m)\u001b[49m\n\u001b[32m     70\u001b[39m \u001b[38;5;28;01mexcept\u001b[39;00m \u001b[38;5;167;01mException\u001b[39;00m:\n\u001b[32m     71\u001b[39m     \u001b[38;5;28mself\u001b[39m.quit()\n",
      "\u001b[36mFile \u001b[39m\u001b[32m~/.local/lib/python3.12/site-packages/selenium/webdriver/remote/webdriver.py:257\u001b[39m, in \u001b[36mWebDriver.__init__\u001b[39m\u001b[34m(self, command_executor, keep_alive, file_detector, options, locator_converter, web_element_cls, client_config)\u001b[39m\n\u001b[32m    255\u001b[39m \u001b[38;5;28mself\u001b[39m._authenticator_id = \u001b[38;5;28;01mNone\u001b[39;00m\n\u001b[32m    256\u001b[39m \u001b[38;5;28mself\u001b[39m.start_client()\n\u001b[32m--> \u001b[39m\u001b[32m257\u001b[39m \u001b[38;5;28;43mself\u001b[39;49m\u001b[43m.\u001b[49m\u001b[43mstart_session\u001b[49m\u001b[43m(\u001b[49m\u001b[43mcapabilities\u001b[49m\u001b[43m)\u001b[49m\n\u001b[32m    258\u001b[39m \u001b[38;5;28mself\u001b[39m._fedcm = FedCM(\u001b[38;5;28mself\u001b[39m)\n\u001b[32m    260\u001b[39m \u001b[38;5;28mself\u001b[39m._websocket_connection = \u001b[38;5;28;01mNone\u001b[39;00m\n",
      "\u001b[36mFile \u001b[39m\u001b[32m~/.local/lib/python3.12/site-packages/selenium/webdriver/remote/webdriver.py:356\u001b[39m, in \u001b[36mWebDriver.start_session\u001b[39m\u001b[34m(self, capabilities)\u001b[39m\n\u001b[32m    354\u001b[39m caps = _create_caps(capabilities)\n\u001b[32m    355\u001b[39m \u001b[38;5;28;01mtry\u001b[39;00m:\n\u001b[32m--> \u001b[39m\u001b[32m356\u001b[39m     response = \u001b[38;5;28;43mself\u001b[39;49m\u001b[43m.\u001b[49m\u001b[43mexecute\u001b[49m\u001b[43m(\u001b[49m\u001b[43mCommand\u001b[49m\u001b[43m.\u001b[49m\u001b[43mNEW_SESSION\u001b[49m\u001b[43m,\u001b[49m\u001b[43m \u001b[49m\u001b[43mcaps\u001b[49m\u001b[43m)\u001b[49m[\u001b[33m\"\u001b[39m\u001b[33mvalue\u001b[39m\u001b[33m\"\u001b[39m]\n\u001b[32m    357\u001b[39m     \u001b[38;5;28mself\u001b[39m.session_id = response.get(\u001b[33m\"\u001b[39m\u001b[33msessionId\u001b[39m\u001b[33m\"\u001b[39m)\n\u001b[32m    358\u001b[39m     \u001b[38;5;28mself\u001b[39m.caps = response.get(\u001b[33m\"\u001b[39m\u001b[33mcapabilities\u001b[39m\u001b[33m\"\u001b[39m)\n",
      "\u001b[36mFile \u001b[39m\u001b[32m~/.local/lib/python3.12/site-packages/selenium/webdriver/remote/webdriver.py:447\u001b[39m, in \u001b[36mWebDriver.execute\u001b[39m\u001b[34m(self, driver_command, params)\u001b[39m\n\u001b[32m    445\u001b[39m response = \u001b[38;5;28mself\u001b[39m.command_executor.execute(driver_command, params)\n\u001b[32m    446\u001b[39m \u001b[38;5;28;01mif\u001b[39;00m response:\n\u001b[32m--> \u001b[39m\u001b[32m447\u001b[39m     \u001b[38;5;28;43mself\u001b[39;49m\u001b[43m.\u001b[49m\u001b[43merror_handler\u001b[49m\u001b[43m.\u001b[49m\u001b[43mcheck_response\u001b[49m\u001b[43m(\u001b[49m\u001b[43mresponse\u001b[49m\u001b[43m)\u001b[49m\n\u001b[32m    448\u001b[39m     response[\u001b[33m\"\u001b[39m\u001b[33mvalue\u001b[39m\u001b[33m\"\u001b[39m] = \u001b[38;5;28mself\u001b[39m._unwrap_value(response.get(\u001b[33m\"\u001b[39m\u001b[33mvalue\u001b[39m\u001b[33m\"\u001b[39m, \u001b[38;5;28;01mNone\u001b[39;00m))\n\u001b[32m    449\u001b[39m     \u001b[38;5;28;01mreturn\u001b[39;00m response\n",
      "\u001b[36mFile \u001b[39m\u001b[32m~/.local/lib/python3.12/site-packages/selenium/webdriver/remote/errorhandler.py:232\u001b[39m, in \u001b[36mErrorHandler.check_response\u001b[39m\u001b[34m(self, response)\u001b[39m\n\u001b[32m    230\u001b[39m         alert_text = value[\u001b[33m\"\u001b[39m\u001b[33malert\u001b[39m\u001b[33m\"\u001b[39m].get(\u001b[33m\"\u001b[39m\u001b[33mtext\u001b[39m\u001b[33m\"\u001b[39m)\n\u001b[32m    231\u001b[39m     \u001b[38;5;28;01mraise\u001b[39;00m exception_class(message, screen, stacktrace, alert_text)  \u001b[38;5;66;03m# type: ignore[call-arg]  # mypy is not smart enough here\u001b[39;00m\n\u001b[32m--> \u001b[39m\u001b[32m232\u001b[39m \u001b[38;5;28;01mraise\u001b[39;00m exception_class(message, screen, stacktrace)\n",
      "\u001b[31mWebDriverException\u001b[39m: Message: unknown error: cannot find Chrome binary\nStacktrace:\n#0 0x5ff3e712b4e3 <unknown>\n#1 0x5ff3e6e5ac76 <unknown>\n#2 0x5ff3e6e81757 <unknown>\n#3 0x5ff3e6e80029 <unknown>\n#4 0x5ff3e6ebeccc <unknown>\n#5 0x5ff3e6ebe47f <unknown>\n#6 0x5ff3e6eb5de3 <unknown>\n#7 0x5ff3e6e8b2dd <unknown>\n#8 0x5ff3e6e8c34e <unknown>\n#9 0x5ff3e70eb3e4 <unknown>\n#10 0x5ff3e70ef3d7 <unknown>\n#11 0x5ff3e70f9b20 <unknown>\n#12 0x5ff3e70f0023 <unknown>\n#13 0x5ff3e70be1aa <unknown>\n#14 0x5ff3e71146b8 <unknown>\n#15 0x5ff3e7114847 <unknown>\n#16 0x5ff3e7124243 <unknown>\n#17 0x79d803f03ea7 start_thread\n"
     ]
    }
   ],
   "source": [
    "from selenium import webdriver\n",
    "from selenium.webdriver.chrome.service import Service\n",
    "from selenium.webdriver.chrome.options import Options\n",
    "from webdriver_manager.chrome import ChromeDriverManager\n",
    "import time\n",
    "\n",
    "options = Options()\n",
    "options.add_argument(\"--headless\")\n",
    "options.add_argument(\"--disable-gpu\")\n",
    "options.add_argument(\"--no-sandbox\")\n",
    "options.add_argument(\"--disable-dev-shm-usage\")\n",
    "options.add_argument(\"--window-size=1920,1080\")\n",
    "\n",
    "service = Service(ChromeDriverManager().install())\n",
    "driver = webdriver.Chrome(service=service, options=options)\n",
    "\n",
    "try:\n",
    "    url = \"https://www.momoshop.com.tw/search/searchShop.jsp?keyword=汽車手機支架&priceE=300\"\n",
    "    driver.get(url)\n",
    "    time.sleep(5)  # 等待 JavaScript 載入\n",
    "    \n",
    "    html = driver.page_source\n",
    "    with open(\"momo_search.html\", \"w\", encoding=\"utf-8\") as f:\n",
    "        f.write(html)\n",
    "    print(\"HTML 已成功保存：momo_search.html\")\n",
    "finally:\n",
    "    driver.quit()\n"
   ]
  },
  {
   "cell_type": "markdown",
   "id": "a9193449",
   "metadata": {},
   "source": [
    "提到可能是缺少相關東西，從 terminal 執行\n",
    "\n",
    "```shell\n",
    "sudo apt-get update\n",
    "sudo apt-get install -y \\\n",
    "  fonts-liberation \\\n",
    "  libappindicator3-1 \\\n",
    "  libasound2 \\\n",
    "  libatk-bridge2.0-0 \\\n",
    "  libatk1.0-0 \\\n",
    "  libcups2 \\\n",
    "  libdbus-1-3 \\\n",
    "  libgdk-pixbuf2.0-0 \\\n",
    "  libnspr4 \\\n",
    "  libnss3 \\\n",
    "  libx11-xcb1 \\\n",
    "  libxcomposite1 \\\n",
    "  libxdamage1 \\\n",
    "  libxrandr2 \\\n",
    "  xdg-utils \\\n",
    "  libpangocairo-1.0-0 \\\n",
    "  libxshmfence1 \\\n",
    "  libgbm1\n",
    "```"
   ]
  },
  {
   "cell_type": "code",
   "execution_count": 4,
   "id": "5b98209d",
   "metadata": {},
   "outputs": [
    {
     "ename": "WebDriverException",
     "evalue": "Message: unknown error: cannot find Chrome binary\nStacktrace:\n#0 0x63e5030684e3 <unknown>\n#1 0x63e502d97c76 <unknown>\n#2 0x63e502dbe757 <unknown>\n#3 0x63e502dbd029 <unknown>\n#4 0x63e502dfbccc <unknown>\n#5 0x63e502dfb47f <unknown>\n#6 0x63e502df2de3 <unknown>\n#7 0x63e502dc82dd <unknown>\n#8 0x63e502dc934e <unknown>\n#9 0x63e5030283e4 <unknown>\n#10 0x63e50302c3d7 <unknown>\n#11 0x63e503036b20 <unknown>\n#12 0x63e50302d023 <unknown>\n#13 0x63e502ffb1aa <unknown>\n#14 0x63e5030516b8 <unknown>\n#15 0x63e503051847 <unknown>\n#16 0x63e503061243 <unknown>\n#17 0x7072d112dea7 start_thread\n",
     "output_type": "error",
     "traceback": [
      "\u001b[31m---------------------------------------------------------------------------\u001b[39m",
      "\u001b[31mWebDriverException\u001b[39m                        Traceback (most recent call last)",
      "\u001b[36mCell\u001b[39m\u001b[36m \u001b[39m\u001b[32mIn[4]\u001b[39m\u001b[32m, line 15\u001b[39m\n\u001b[32m     12\u001b[39m options.add_argument(\u001b[33m\"\u001b[39m\u001b[33m--window-size=1920,1080\u001b[39m\u001b[33m\"\u001b[39m)\n\u001b[32m     14\u001b[39m service = Service(ChromeDriverManager().install())\n\u001b[32m---> \u001b[39m\u001b[32m15\u001b[39m driver = \u001b[43mwebdriver\u001b[49m\u001b[43m.\u001b[49m\u001b[43mChrome\u001b[49m\u001b[43m(\u001b[49m\u001b[43mservice\u001b[49m\u001b[43m=\u001b[49m\u001b[43mservice\u001b[49m\u001b[43m,\u001b[49m\u001b[43m \u001b[49m\u001b[43moptions\u001b[49m\u001b[43m=\u001b[49m\u001b[43moptions\u001b[49m\u001b[43m)\u001b[49m\n\u001b[32m     17\u001b[39m \u001b[38;5;28;01mtry\u001b[39;00m:\n\u001b[32m     18\u001b[39m     url = \u001b[33m\"\u001b[39m\u001b[33mhttps://www.momoshop.com.tw/search/searchShop.jsp?keyword=汽車手機支架&priceE=300\u001b[39m\u001b[33m\"\u001b[39m\n",
      "\u001b[36mFile \u001b[39m\u001b[32m~/.local/lib/python3.12/site-packages/selenium/webdriver/chrome/webdriver.py:47\u001b[39m, in \u001b[36mWebDriver.__init__\u001b[39m\u001b[34m(self, options, service, keep_alive)\u001b[39m\n\u001b[32m     44\u001b[39m service = service \u001b[38;5;28;01mif\u001b[39;00m service \u001b[38;5;28;01melse\u001b[39;00m Service()\n\u001b[32m     45\u001b[39m options = options \u001b[38;5;28;01mif\u001b[39;00m options \u001b[38;5;28;01melse\u001b[39;00m Options()\n\u001b[32m---> \u001b[39m\u001b[32m47\u001b[39m \u001b[38;5;28;43msuper\u001b[39;49m\u001b[43m(\u001b[49m\u001b[43m)\u001b[49m\u001b[43m.\u001b[49m\u001b[34;43m__init__\u001b[39;49m\u001b[43m(\u001b[49m\n\u001b[32m     48\u001b[39m \u001b[43m    \u001b[49m\u001b[43mbrowser_name\u001b[49m\u001b[43m=\u001b[49m\u001b[43mDesiredCapabilities\u001b[49m\u001b[43m.\u001b[49m\u001b[43mCHROME\u001b[49m\u001b[43m[\u001b[49m\u001b[33;43m\"\u001b[39;49m\u001b[33;43mbrowserName\u001b[39;49m\u001b[33;43m\"\u001b[39;49m\u001b[43m]\u001b[49m\u001b[43m,\u001b[49m\n\u001b[32m     49\u001b[39m \u001b[43m    \u001b[49m\u001b[43mvendor_prefix\u001b[49m\u001b[43m=\u001b[49m\u001b[33;43m\"\u001b[39;49m\u001b[33;43mgoog\u001b[39;49m\u001b[33;43m\"\u001b[39;49m\u001b[43m,\u001b[49m\n\u001b[32m     50\u001b[39m \u001b[43m    \u001b[49m\u001b[43moptions\u001b[49m\u001b[43m=\u001b[49m\u001b[43moptions\u001b[49m\u001b[43m,\u001b[49m\n\u001b[32m     51\u001b[39m \u001b[43m    \u001b[49m\u001b[43mservice\u001b[49m\u001b[43m=\u001b[49m\u001b[43mservice\u001b[49m\u001b[43m,\u001b[49m\n\u001b[32m     52\u001b[39m \u001b[43m    \u001b[49m\u001b[43mkeep_alive\u001b[49m\u001b[43m=\u001b[49m\u001b[43mkeep_alive\u001b[49m\u001b[43m,\u001b[49m\n\u001b[32m     53\u001b[39m \u001b[43m\u001b[49m\u001b[43m)\u001b[49m\n",
      "\u001b[36mFile \u001b[39m\u001b[32m~/.local/lib/python3.12/site-packages/selenium/webdriver/chromium/webdriver.py:69\u001b[39m, in \u001b[36mChromiumDriver.__init__\u001b[39m\u001b[34m(self, browser_name, vendor_prefix, options, service, keep_alive)\u001b[39m\n\u001b[32m     60\u001b[39m executor = ChromiumRemoteConnection(\n\u001b[32m     61\u001b[39m     remote_server_addr=\u001b[38;5;28mself\u001b[39m.service.service_url,\n\u001b[32m     62\u001b[39m     browser_name=browser_name,\n\u001b[32m   (...)\u001b[39m\u001b[32m     65\u001b[39m     ignore_proxy=options._ignore_local_proxy,\n\u001b[32m     66\u001b[39m )\n\u001b[32m     68\u001b[39m \u001b[38;5;28;01mtry\u001b[39;00m:\n\u001b[32m---> \u001b[39m\u001b[32m69\u001b[39m     \u001b[38;5;28;43msuper\u001b[39;49m\u001b[43m(\u001b[49m\u001b[43m)\u001b[49m\u001b[43m.\u001b[49m\u001b[34;43m__init__\u001b[39;49m\u001b[43m(\u001b[49m\u001b[43mcommand_executor\u001b[49m\u001b[43m=\u001b[49m\u001b[43mexecutor\u001b[49m\u001b[43m,\u001b[49m\u001b[43m \u001b[49m\u001b[43moptions\u001b[49m\u001b[43m=\u001b[49m\u001b[43moptions\u001b[49m\u001b[43m)\u001b[49m\n\u001b[32m     70\u001b[39m \u001b[38;5;28;01mexcept\u001b[39;00m \u001b[38;5;167;01mException\u001b[39;00m:\n\u001b[32m     71\u001b[39m     \u001b[38;5;28mself\u001b[39m.quit()\n",
      "\u001b[36mFile \u001b[39m\u001b[32m~/.local/lib/python3.12/site-packages/selenium/webdriver/remote/webdriver.py:257\u001b[39m, in \u001b[36mWebDriver.__init__\u001b[39m\u001b[34m(self, command_executor, keep_alive, file_detector, options, locator_converter, web_element_cls, client_config)\u001b[39m\n\u001b[32m    255\u001b[39m \u001b[38;5;28mself\u001b[39m._authenticator_id = \u001b[38;5;28;01mNone\u001b[39;00m\n\u001b[32m    256\u001b[39m \u001b[38;5;28mself\u001b[39m.start_client()\n\u001b[32m--> \u001b[39m\u001b[32m257\u001b[39m \u001b[38;5;28;43mself\u001b[39;49m\u001b[43m.\u001b[49m\u001b[43mstart_session\u001b[49m\u001b[43m(\u001b[49m\u001b[43mcapabilities\u001b[49m\u001b[43m)\u001b[49m\n\u001b[32m    258\u001b[39m \u001b[38;5;28mself\u001b[39m._fedcm = FedCM(\u001b[38;5;28mself\u001b[39m)\n\u001b[32m    260\u001b[39m \u001b[38;5;28mself\u001b[39m._websocket_connection = \u001b[38;5;28;01mNone\u001b[39;00m\n",
      "\u001b[36mFile \u001b[39m\u001b[32m~/.local/lib/python3.12/site-packages/selenium/webdriver/remote/webdriver.py:356\u001b[39m, in \u001b[36mWebDriver.start_session\u001b[39m\u001b[34m(self, capabilities)\u001b[39m\n\u001b[32m    354\u001b[39m caps = _create_caps(capabilities)\n\u001b[32m    355\u001b[39m \u001b[38;5;28;01mtry\u001b[39;00m:\n\u001b[32m--> \u001b[39m\u001b[32m356\u001b[39m     response = \u001b[38;5;28;43mself\u001b[39;49m\u001b[43m.\u001b[49m\u001b[43mexecute\u001b[49m\u001b[43m(\u001b[49m\u001b[43mCommand\u001b[49m\u001b[43m.\u001b[49m\u001b[43mNEW_SESSION\u001b[49m\u001b[43m,\u001b[49m\u001b[43m \u001b[49m\u001b[43mcaps\u001b[49m\u001b[43m)\u001b[49m[\u001b[33m\"\u001b[39m\u001b[33mvalue\u001b[39m\u001b[33m\"\u001b[39m]\n\u001b[32m    357\u001b[39m     \u001b[38;5;28mself\u001b[39m.session_id = response.get(\u001b[33m\"\u001b[39m\u001b[33msessionId\u001b[39m\u001b[33m\"\u001b[39m)\n\u001b[32m    358\u001b[39m     \u001b[38;5;28mself\u001b[39m.caps = response.get(\u001b[33m\"\u001b[39m\u001b[33mcapabilities\u001b[39m\u001b[33m\"\u001b[39m)\n",
      "\u001b[36mFile \u001b[39m\u001b[32m~/.local/lib/python3.12/site-packages/selenium/webdriver/remote/webdriver.py:447\u001b[39m, in \u001b[36mWebDriver.execute\u001b[39m\u001b[34m(self, driver_command, params)\u001b[39m\n\u001b[32m    445\u001b[39m response = \u001b[38;5;28mself\u001b[39m.command_executor.execute(driver_command, params)\n\u001b[32m    446\u001b[39m \u001b[38;5;28;01mif\u001b[39;00m response:\n\u001b[32m--> \u001b[39m\u001b[32m447\u001b[39m     \u001b[38;5;28;43mself\u001b[39;49m\u001b[43m.\u001b[49m\u001b[43merror_handler\u001b[49m\u001b[43m.\u001b[49m\u001b[43mcheck_response\u001b[49m\u001b[43m(\u001b[49m\u001b[43mresponse\u001b[49m\u001b[43m)\u001b[49m\n\u001b[32m    448\u001b[39m     response[\u001b[33m\"\u001b[39m\u001b[33mvalue\u001b[39m\u001b[33m\"\u001b[39m] = \u001b[38;5;28mself\u001b[39m._unwrap_value(response.get(\u001b[33m\"\u001b[39m\u001b[33mvalue\u001b[39m\u001b[33m\"\u001b[39m, \u001b[38;5;28;01mNone\u001b[39;00m))\n\u001b[32m    449\u001b[39m     \u001b[38;5;28;01mreturn\u001b[39;00m response\n",
      "\u001b[36mFile \u001b[39m\u001b[32m~/.local/lib/python3.12/site-packages/selenium/webdriver/remote/errorhandler.py:232\u001b[39m, in \u001b[36mErrorHandler.check_response\u001b[39m\u001b[34m(self, response)\u001b[39m\n\u001b[32m    230\u001b[39m         alert_text = value[\u001b[33m\"\u001b[39m\u001b[33malert\u001b[39m\u001b[33m\"\u001b[39m].get(\u001b[33m\"\u001b[39m\u001b[33mtext\u001b[39m\u001b[33m\"\u001b[39m)\n\u001b[32m    231\u001b[39m     \u001b[38;5;28;01mraise\u001b[39;00m exception_class(message, screen, stacktrace, alert_text)  \u001b[38;5;66;03m# type: ignore[call-arg]  # mypy is not smart enough here\u001b[39;00m\n\u001b[32m--> \u001b[39m\u001b[32m232\u001b[39m \u001b[38;5;28;01mraise\u001b[39;00m exception_class(message, screen, stacktrace)\n",
      "\u001b[31mWebDriverException\u001b[39m: Message: unknown error: cannot find Chrome binary\nStacktrace:\n#0 0x63e5030684e3 <unknown>\n#1 0x63e502d97c76 <unknown>\n#2 0x63e502dbe757 <unknown>\n#3 0x63e502dbd029 <unknown>\n#4 0x63e502dfbccc <unknown>\n#5 0x63e502dfb47f <unknown>\n#6 0x63e502df2de3 <unknown>\n#7 0x63e502dc82dd <unknown>\n#8 0x63e502dc934e <unknown>\n#9 0x63e5030283e4 <unknown>\n#10 0x63e50302c3d7 <unknown>\n#11 0x63e503036b20 <unknown>\n#12 0x63e50302d023 <unknown>\n#13 0x63e502ffb1aa <unknown>\n#14 0x63e5030516b8 <unknown>\n#15 0x63e503051847 <unknown>\n#16 0x63e503061243 <unknown>\n#17 0x7072d112dea7 start_thread\n"
     ]
    }
   ],
   "source": [
    "from selenium import webdriver\n",
    "from selenium.webdriver.chrome.service import Service\n",
    "from selenium.webdriver.chrome.options import Options\n",
    "from webdriver_manager.chrome import ChromeDriverManager\n",
    "import time\n",
    "\n",
    "options = Options()\n",
    "options.add_argument(\"--headless\")\n",
    "options.add_argument(\"--disable-gpu\")\n",
    "options.add_argument(\"--no-sandbox\")\n",
    "options.add_argument(\"--disable-dev-shm-usage\")\n",
    "options.add_argument(\"--window-size=1920,1080\")\n",
    "\n",
    "service = Service(ChromeDriverManager().install())\n",
    "driver = webdriver.Chrome(service=service, options=options)\n",
    "\n",
    "try:\n",
    "    url = \"https://www.momoshop.com.tw/search/searchShop.jsp?keyword=汽車手機支架&priceE=300\"\n",
    "    driver.get(url)\n",
    "    time.sleep(5)  # 等待 JavaScript 載入\n",
    "    \n",
    "    html = driver.page_source\n",
    "    with open(\"momo_search.html\", \"w\", encoding=\"utf-8\") as f:\n",
    "        f.write(html)\n",
    "    print(\"HTML 已成功保存：momo_search.html\")\n",
    "finally:\n",
    "    driver.quit()\n"
   ]
  },
  {
   "cell_type": "markdown",
   "id": "ab63ab66",
   "metadata": {},
   "source": [
    "一樣的錯誤\n",
    "\n",
    "他提到可以換 Playwright"
   ]
  },
  {
   "cell_type": "markdown",
   "id": "8da2f406",
   "metadata": {},
   "source": [
    "## Playwright\n",
    "\n",
    "> 如果換 playwright 兩個 cell 內容應該要有什麼？"
   ]
  },
  {
   "cell_type": "code",
   "execution_count": 1,
   "id": "8eb83b97",
   "metadata": {},
   "outputs": [
    {
     "name": "stdout",
     "output_type": "stream",
     "text": [
      "Defaulting to user installation because normal site-packages is not writeable\n",
      "Requirement already satisfied: playwright in /home/vscode/.local/lib/python3.12/site-packages (1.53.0)\n",
      "Requirement already satisfied: pyee<14,>=13 in /home/vscode/.local/lib/python3.12/site-packages (from playwright) (13.0.0)\n",
      "Requirement already satisfied: greenlet<4.0.0,>=3.1.1 in /home/vscode/.local/lib/python3.12/site-packages (from playwright) (3.2.3)\n",
      "Requirement already satisfied: typing-extensions in /home/vscode/.local/lib/python3.12/site-packages (from pyee<14,>=13->playwright) (4.13.2)\n",
      "\n",
      "\u001b[1m[\u001b[0m\u001b[34;49mnotice\u001b[0m\u001b[1;39;49m]\u001b[0m\u001b[39;49m A new release of pip is available: \u001b[0m\u001b[31;49m25.0.1\u001b[0m\u001b[39;49m -> \u001b[0m\u001b[32;49m25.1.1\u001b[0m\n",
      "\u001b[1m[\u001b[0m\u001b[34;49mnotice\u001b[0m\u001b[1;39;49m]\u001b[0m\u001b[39;49m To update, run: \u001b[0m\u001b[32;49mpip install --upgrade pip\u001b[0m\n",
      "You are using a frozen webkit browser which does not receive updates anymore on debian11-x64. Please update to the latest version of your operating system to test up-to-date browsers.\n"
     ]
    }
   ],
   "source": [
    "# 安裝指令 (第一次執行才要跑)\n",
    "!pip install playwright\n",
    "!playwright install"
   ]
  },
  {
   "cell_type": "code",
   "execution_count": 2,
   "id": "7aa37615",
   "metadata": {},
   "outputs": [
    {
     "ename": "Error",
     "evalue": "It looks like you are using Playwright Sync API inside the asyncio loop.\nPlease use the Async API instead.",
     "output_type": "error",
     "traceback": [
      "\u001b[31m---------------------------------------------------------------------------\u001b[39m",
      "\u001b[31mError\u001b[39m                                     Traceback (most recent call last)",
      "\u001b[36mCell\u001b[39m\u001b[36m \u001b[39m\u001b[32mIn[2]\u001b[39m\u001b[32m, line 3\u001b[39m\n\u001b[32m      1\u001b[39m \u001b[38;5;28;01mfrom\u001b[39;00m\u001b[38;5;250m \u001b[39m\u001b[34;01mplaywright\u001b[39;00m\u001b[34;01m.\u001b[39;00m\u001b[34;01msync_api\u001b[39;00m\u001b[38;5;250m \u001b[39m\u001b[38;5;28;01mimport\u001b[39;00m sync_playwright\n\u001b[32m----> \u001b[39m\u001b[32m3\u001b[39m \u001b[38;5;28;43;01mwith\u001b[39;49;00m\u001b[43m \u001b[49m\u001b[43msync_playwright\u001b[49m\u001b[43m(\u001b[49m\u001b[43m)\u001b[49m\u001b[43m \u001b[49m\u001b[38;5;28;43;01mas\u001b[39;49;00m\u001b[43m \u001b[49m\u001b[43mp\u001b[49m\u001b[43m:\u001b[49m\n\u001b[32m      4\u001b[39m \u001b[43m    \u001b[49m\u001b[43mbrowser\u001b[49m\u001b[43m \u001b[49m\u001b[43m=\u001b[49m\u001b[43m \u001b[49m\u001b[43mp\u001b[49m\u001b[43m.\u001b[49m\u001b[43mchromium\u001b[49m\u001b[43m.\u001b[49m\u001b[43mlaunch\u001b[49m\u001b[43m(\u001b[49m\u001b[43mheadless\u001b[49m\u001b[43m=\u001b[49m\u001b[38;5;28;43;01mTrue\u001b[39;49;00m\u001b[43m)\u001b[49m\u001b[43m  \u001b[49m\u001b[38;5;66;43;03m# 無頭模式\u001b[39;49;00m\n\u001b[32m      5\u001b[39m \u001b[43m    \u001b[49m\u001b[43mpage\u001b[49m\u001b[43m \u001b[49m\u001b[43m=\u001b[49m\u001b[43m \u001b[49m\u001b[43mbrowser\u001b[49m\u001b[43m.\u001b[49m\u001b[43mnew_page\u001b[49m\u001b[43m(\u001b[49m\u001b[43m)\u001b[49m\n",
      "\u001b[36mFile \u001b[39m\u001b[32m~/.local/lib/python3.12/site-packages/playwright/sync_api/_context_manager.py:47\u001b[39m, in \u001b[36mPlaywrightContextManager.__enter__\u001b[39m\u001b[34m(self)\u001b[39m\n\u001b[32m     45\u001b[39m             \u001b[38;5;28mself\u001b[39m._own_loop = \u001b[38;5;28;01mTrue\u001b[39;00m\n\u001b[32m     46\u001b[39m         \u001b[38;5;28;01mif\u001b[39;00m \u001b[38;5;28mself\u001b[39m._loop.is_running():\n\u001b[32m---> \u001b[39m\u001b[32m47\u001b[39m             \u001b[38;5;28;01mraise\u001b[39;00m Error(\n\u001b[32m     48\u001b[39m \u001b[38;5;250m                \u001b[39m\u001b[33;03m\"\"\"It looks like you are using Playwright Sync API inside the asyncio loop.\u001b[39;00m\n\u001b[32m     49\u001b[39m \u001b[33;03mPlease use the Async API instead.\"\"\"\u001b[39;00m\n\u001b[32m     50\u001b[39m             )\n\u001b[32m     52\u001b[39m         \u001b[38;5;66;03m# Create a new fiber for the protocol dispatcher. It will be pumping events\u001b[39;00m\n\u001b[32m     53\u001b[39m         \u001b[38;5;66;03m# until the end of times. We will pass control to that fiber every time we\u001b[39;00m\n\u001b[32m     54\u001b[39m         \u001b[38;5;66;03m# block while waiting for a response.\u001b[39;00m\n\u001b[32m     55\u001b[39m         \u001b[38;5;28;01mdef\u001b[39;00m\u001b[38;5;250m \u001b[39m\u001b[34mgreenlet_main\u001b[39m() -> \u001b[38;5;28;01mNone\u001b[39;00m:\n",
      "\u001b[31mError\u001b[39m: It looks like you are using Playwright Sync API inside the asyncio loop.\nPlease use the Async API instead."
     ]
    }
   ],
   "source": [
    "from playwright.sync_api import sync_playwright\n",
    "\n",
    "with sync_playwright() as p:\n",
    "    browser = p.chromium.launch(headless=True)  # 無頭模式\n",
    "    page = browser.new_page()\n",
    "    url = \"https://www.momoshop.com.tw/search/searchShop.jsp?keyword=汽車手機支架&priceE=300\"\n",
    "    page.goto(url)\n",
    "    page.wait_for_selector(\"li.goodsItemLi\")  # 等待商品元素載入\n",
    "    html = page.content()\n",
    "    \n",
    "    with open(\"momo_search.html\", \"w\", encoding=\"utf-8\") as f:\n",
    "        f.write(html)\n",
    "    \n",
    "    browser.close()\n",
    "\n",
    "print(\"HTML 已儲存到 momo_search.html\")\n"
   ]
  },
  {
   "cell_type": "markdown",
   "id": "9937128b",
   "metadata": {},
   "source": [
    "> 出現錯誤  \n",
    "Error: It looks like you are using Playwright Sync API inside the asyncio loop.  \n",
    "Please use the Async API instead."
   ]
  },
  {
   "cell_type": "code",
   "execution_count": 3,
   "id": "7a79721f",
   "metadata": {},
   "outputs": [
    {
     "ename": "TimeoutError",
     "evalue": "Page.wait_for_selector: Timeout 30000ms exceeded.\nCall log:\n  - waiting for locator(\"li.goodsItemLi\") to be visible\n",
     "output_type": "error",
     "traceback": [
      "\u001b[31m---------------------------------------------------------------------------\u001b[39m",
      "\u001b[31mTimeoutError\u001b[39m                              Traceback (most recent call last)",
      "\u001b[36mCell\u001b[39m\u001b[36m \u001b[39m\u001b[32mIn[3]\u001b[39m\u001b[32m, line 20\u001b[39m\n\u001b[32m     17\u001b[39m     \u001b[38;5;28mprint\u001b[39m(\u001b[33m\"\u001b[39m\u001b[33mHTML 已儲存到 momo_search.html\u001b[39m\u001b[33m\"\u001b[39m)\n\u001b[32m     19\u001b[39m \u001b[38;5;66;03m# 在 Jupyter 執行非同步任務\u001b[39;00m\n\u001b[32m---> \u001b[39m\u001b[32m20\u001b[39m \u001b[38;5;28;01mawait\u001b[39;00m fetch_and_save()\n",
      "\u001b[36mCell\u001b[39m\u001b[36m \u001b[39m\u001b[32mIn[3]\u001b[39m\u001b[32m, line 10\u001b[39m, in \u001b[36mfetch_and_save\u001b[39m\u001b[34m()\u001b[39m\n\u001b[32m      8\u001b[39m url = \u001b[33m\"\u001b[39m\u001b[33mhttps://www.momoshop.com.tw/search/searchShop.jsp?keyword=汽車手機支架&priceE=300\u001b[39m\u001b[33m\"\u001b[39m\n\u001b[32m      9\u001b[39m \u001b[38;5;28;01mawait\u001b[39;00m page.goto(url)\n\u001b[32m---> \u001b[39m\u001b[32m10\u001b[39m \u001b[38;5;28;01mawait\u001b[39;00m page.wait_for_selector(\u001b[33m\"\u001b[39m\u001b[33mli.goodsItemLi\u001b[39m\u001b[33m\"\u001b[39m)\n\u001b[32m     11\u001b[39m html = \u001b[38;5;28;01mawait\u001b[39;00m page.content()\n\u001b[32m     13\u001b[39m \u001b[38;5;28;01mwith\u001b[39;00m \u001b[38;5;28mopen\u001b[39m(\u001b[33m\"\u001b[39m\u001b[33mmomo_search.html\u001b[39m\u001b[33m\"\u001b[39m, \u001b[33m\"\u001b[39m\u001b[33mw\u001b[39m\u001b[33m\"\u001b[39m, encoding=\u001b[33m\"\u001b[39m\u001b[33mutf-8\u001b[39m\u001b[33m\"\u001b[39m) \u001b[38;5;28;01mas\u001b[39;00m f:\n",
      "\u001b[36mFile \u001b[39m\u001b[32m~/.local/lib/python3.12/site-packages/playwright/async_api/_generated.py:8164\u001b[39m, in \u001b[36mPage.wait_for_selector\u001b[39m\u001b[34m(self, selector, timeout, state, strict)\u001b[39m\n\u001b[32m   8093\u001b[39m \u001b[38;5;28;01masync\u001b[39;00m \u001b[38;5;28;01mdef\u001b[39;00m\u001b[38;5;250m \u001b[39m\u001b[34mwait_for_selector\u001b[39m(\n\u001b[32m   8094\u001b[39m     \u001b[38;5;28mself\u001b[39m,\n\u001b[32m   8095\u001b[39m     selector: \u001b[38;5;28mstr\u001b[39m,\n\u001b[32m   (...)\u001b[39m\u001b[32m   8101\u001b[39m     strict: typing.Optional[\u001b[38;5;28mbool\u001b[39m] = \u001b[38;5;28;01mNone\u001b[39;00m,\n\u001b[32m   8102\u001b[39m ) -> typing.Optional[\u001b[33m\"\u001b[39m\u001b[33mElementHandle\u001b[39m\u001b[33m\"\u001b[39m]:\n\u001b[32m   8103\u001b[39m \u001b[38;5;250m    \u001b[39m\u001b[33;03m\"\"\"Page.wait_for_selector\u001b[39;00m\n\u001b[32m   8104\u001b[39m \n\u001b[32m   8105\u001b[39m \u001b[33;03m    Returns when element specified by selector satisfies `state` option. Returns `null` if waiting for `hidden` or\u001b[39;00m\n\u001b[32m   (...)\u001b[39m\u001b[32m   8160\u001b[39m \u001b[33;03m    Union[ElementHandle, None]\u001b[39;00m\n\u001b[32m   8161\u001b[39m \u001b[33;03m    \"\"\"\u001b[39;00m\n\u001b[32m   8163\u001b[39m     \u001b[38;5;28;01mreturn\u001b[39;00m mapping.from_impl_nullable(\n\u001b[32m-> \u001b[39m\u001b[32m8164\u001b[39m         \u001b[38;5;28;01mawait\u001b[39;00m \u001b[38;5;28mself\u001b[39m._impl_obj.wait_for_selector(\n\u001b[32m   8165\u001b[39m             selector=selector, timeout=timeout, state=state, strict=strict\n\u001b[32m   8166\u001b[39m         )\n\u001b[32m   8167\u001b[39m     )\n",
      "\u001b[36mFile \u001b[39m\u001b[32m~/.local/lib/python3.12/site-packages/playwright/_impl/_page.py:425\u001b[39m, in \u001b[36mPage.wait_for_selector\u001b[39m\u001b[34m(self, selector, timeout, state, strict)\u001b[39m\n\u001b[32m    418\u001b[39m \u001b[38;5;28;01masync\u001b[39;00m \u001b[38;5;28;01mdef\u001b[39;00m\u001b[38;5;250m \u001b[39m\u001b[34mwait_for_selector\u001b[39m(\n\u001b[32m    419\u001b[39m     \u001b[38;5;28mself\u001b[39m,\n\u001b[32m    420\u001b[39m     selector: \u001b[38;5;28mstr\u001b[39m,\n\u001b[32m   (...)\u001b[39m\u001b[32m    423\u001b[39m     strict: \u001b[38;5;28mbool\u001b[39m = \u001b[38;5;28;01mNone\u001b[39;00m,\n\u001b[32m    424\u001b[39m ) -> Optional[ElementHandle]:\n\u001b[32m--> \u001b[39m\u001b[32m425\u001b[39m     \u001b[38;5;28;01mreturn\u001b[39;00m \u001b[38;5;28;01mawait\u001b[39;00m \u001b[38;5;28mself\u001b[39m._main_frame.wait_for_selector(**locals_to_params(\u001b[38;5;28mlocals\u001b[39m()))\n",
      "\u001b[36mFile \u001b[39m\u001b[32m~/.local/lib/python3.12/site-packages/playwright/_impl/_frame.py:341\u001b[39m, in \u001b[36mFrame.wait_for_selector\u001b[39m\u001b[34m(self, selector, strict, timeout, state)\u001b[39m\n\u001b[32m    333\u001b[39m \u001b[38;5;28;01masync\u001b[39;00m \u001b[38;5;28;01mdef\u001b[39;00m\u001b[38;5;250m \u001b[39m\u001b[34mwait_for_selector\u001b[39m(\n\u001b[32m    334\u001b[39m     \u001b[38;5;28mself\u001b[39m,\n\u001b[32m    335\u001b[39m     selector: \u001b[38;5;28mstr\u001b[39m,\n\u001b[32m   (...)\u001b[39m\u001b[32m    338\u001b[39m     state: Literal[\u001b[33m\"\u001b[39m\u001b[33mattached\u001b[39m\u001b[33m\"\u001b[39m, \u001b[33m\"\u001b[39m\u001b[33mdetached\u001b[39m\u001b[33m\"\u001b[39m, \u001b[33m\"\u001b[39m\u001b[33mhidden\u001b[39m\u001b[33m\"\u001b[39m, \u001b[33m\"\u001b[39m\u001b[33mvisible\u001b[39m\u001b[33m\"\u001b[39m] = \u001b[38;5;28;01mNone\u001b[39;00m,\n\u001b[32m    339\u001b[39m ) -> Optional[ElementHandle]:\n\u001b[32m    340\u001b[39m     \u001b[38;5;28;01mreturn\u001b[39;00m from_nullable_channel(\n\u001b[32m--> \u001b[39m\u001b[32m341\u001b[39m         \u001b[38;5;28;01mawait\u001b[39;00m \u001b[38;5;28mself\u001b[39m._channel.send(\n\u001b[32m    342\u001b[39m             \u001b[33m\"\u001b[39m\u001b[33mwaitForSelector\u001b[39m\u001b[33m\"\u001b[39m, \u001b[38;5;28mself\u001b[39m._timeout, locals_to_params(\u001b[38;5;28mlocals\u001b[39m())\n\u001b[32m    343\u001b[39m         )\n\u001b[32m    344\u001b[39m     )\n",
      "\u001b[36mFile \u001b[39m\u001b[32m~/.local/lib/python3.12/site-packages/playwright/_impl/_connection.py:69\u001b[39m, in \u001b[36mChannel.send\u001b[39m\u001b[34m(self, method, timeout_calculator, params, is_internal, title)\u001b[39m\n\u001b[32m     61\u001b[39m \u001b[38;5;28;01masync\u001b[39;00m \u001b[38;5;28;01mdef\u001b[39;00m\u001b[38;5;250m \u001b[39m\u001b[34msend\u001b[39m(\n\u001b[32m     62\u001b[39m     \u001b[38;5;28mself\u001b[39m,\n\u001b[32m     63\u001b[39m     method: \u001b[38;5;28mstr\u001b[39m,\n\u001b[32m   (...)\u001b[39m\u001b[32m     67\u001b[39m     title: \u001b[38;5;28mstr\u001b[39m = \u001b[38;5;28;01mNone\u001b[39;00m,\n\u001b[32m     68\u001b[39m ) -> Any:\n\u001b[32m---> \u001b[39m\u001b[32m69\u001b[39m     \u001b[38;5;28;01mreturn\u001b[39;00m \u001b[38;5;28;01mawait\u001b[39;00m \u001b[38;5;28mself\u001b[39m._connection.wrap_api_call(\n\u001b[32m     70\u001b[39m         \u001b[38;5;28;01mlambda\u001b[39;00m: \u001b[38;5;28mself\u001b[39m._inner_send(method, timeout_calculator, params, \u001b[38;5;28;01mFalse\u001b[39;00m),\n\u001b[32m     71\u001b[39m         is_internal,\n\u001b[32m     72\u001b[39m         title,\n\u001b[32m     73\u001b[39m     )\n",
      "\u001b[36mFile \u001b[39m\u001b[32m~/.local/lib/python3.12/site-packages/playwright/_impl/_connection.py:558\u001b[39m, in \u001b[36mConnection.wrap_api_call\u001b[39m\u001b[34m(self, cb, is_internal, title)\u001b[39m\n\u001b[32m    556\u001b[39m     \u001b[38;5;28;01mreturn\u001b[39;00m \u001b[38;5;28;01mawait\u001b[39;00m cb()\n\u001b[32m    557\u001b[39m \u001b[38;5;28;01mexcept\u001b[39;00m \u001b[38;5;167;01mException\u001b[39;00m \u001b[38;5;28;01mas\u001b[39;00m error:\n\u001b[32m--> \u001b[39m\u001b[32m558\u001b[39m     \u001b[38;5;28;01mraise\u001b[39;00m rewrite_error(error, \u001b[33mf\u001b[39m\u001b[33m\"\u001b[39m\u001b[38;5;132;01m{\u001b[39;00mparsed_st[\u001b[33m'\u001b[39m\u001b[33mapiName\u001b[39m\u001b[33m'\u001b[39m]\u001b[38;5;132;01m}\u001b[39;00m\u001b[33m: \u001b[39m\u001b[38;5;132;01m{\u001b[39;00merror\u001b[38;5;132;01m}\u001b[39;00m\u001b[33m\"\u001b[39m) \u001b[38;5;28;01mfrom\u001b[39;00m\u001b[38;5;250m \u001b[39m\u001b[38;5;28;01mNone\u001b[39;00m\n\u001b[32m    559\u001b[39m \u001b[38;5;28;01mfinally\u001b[39;00m:\n\u001b[32m    560\u001b[39m     \u001b[38;5;28mself\u001b[39m._api_zone.set(\u001b[38;5;28;01mNone\u001b[39;00m)\n",
      "\u001b[31mTimeoutError\u001b[39m: Page.wait_for_selector: Timeout 30000ms exceeded.\nCall log:\n  - waiting for locator(\"li.goodsItemLi\") to be visible\n"
     ]
    }
   ],
   "source": [
    "import asyncio\n",
    "from playwright.async_api import async_playwright\n",
    "\n",
    "async def fetch_and_save():\n",
    "    async with async_playwright() as p:\n",
    "        browser = await p.chromium.launch(headless=True)\n",
    "        page = await browser.new_page()\n",
    "        url = \"https://www.momoshop.com.tw/search/searchShop.jsp?keyword=汽車手機支架&priceE=300\"\n",
    "        await page.goto(url)\n",
    "        await page.wait_for_selector(\"li.goodsItemLi\")\n",
    "        html = await page.content()\n",
    "\n",
    "        with open(\"momo_search.html\", \"w\", encoding=\"utf-8\") as f:\n",
    "            f.write(html)\n",
    "        \n",
    "        await browser.close()\n",
    "    print(\"HTML 已儲存到 momo_search.html\")\n",
    "\n",
    "# 在 Jupyter 執行非同步任務\n",
    "await fetch_and_save()\n"
   ]
  },
  {
   "cell_type": "markdown",
   "id": "939fb6fc",
   "metadata": {},
   "source": [
    "> 出現錯誤  \n",
    "TimeoutError: Page.wait_for_selector: Timeout 30000ms exceeded.  \n",
    "Call log:  \n",
    "  waiting for locator(\"li.goodsItemLi\") to be visible  \n",
    "我可以只要 html 出來就儲存而不要特定等某個東西出現嗎？"
   ]
  },
  {
   "cell_type": "code",
   "execution_count": 4,
   "id": "967663bc",
   "metadata": {},
   "outputs": [
    {
     "name": "stdout",
     "output_type": "stream",
     "text": [
      "HTML 已儲存到 momo_search.html\n"
     ]
    }
   ],
   "source": [
    "import asyncio\n",
    "from playwright.async_api import async_playwright\n",
    "\n",
    "async def fetch_and_save():\n",
    "    async with async_playwright() as p:\n",
    "        browser = await p.chromium.launch(headless=True)\n",
    "        page = await browser.new_page()\n",
    "        url = \"https://www.momoshop.com.tw/search/searchShop.jsp?keyword=汽車手機支架&priceE=300\"\n",
    "        await page.goto(url)\n",
    "        \n",
    "        # 等待 5 秒，不等待特定元素\n",
    "        await page.wait_for_timeout(5000)\n",
    "        \n",
    "        html = await page.content()\n",
    "\n",
    "        with open(\"momo_search.html\", \"w\", encoding=\"utf-8\") as f:\n",
    "            f.write(html)\n",
    "        \n",
    "        await browser.close()\n",
    "    print(\"HTML 已儲存到 momo_search.html\")\n",
    "\n",
    "await fetch_and_save()\n"
   ]
  },
  {
   "cell_type": "markdown",
   "id": "24e432f6",
   "metadata": {},
   "source": [
    "查看 html 發現\n",
    "\n",
    "```\n",
    "我看下載下來的 html 有這段 javascript\n",
    "\n",
    "<script type=\"application/ld+json\">\n",
    "        {\n",
    "          \"@context\": \"https://schema.org\",\n",
    "          \"@type\": \"WebPage\",\n",
    "          \"name\":\"momo購物網\",\n",
    "          \"url\": \"https://www.momoshop.com.tw\"\n",
    "          ,\"breadcrumb\": {\n",
    "            \"@type\": \"BreadcrumbList\",\n",
    "            \"itemListElement\":\n",
    "            [\n",
    "              {\n",
    "                \"@type\": \"ListItem\",\n",
    "                \"position\": 1,\n",
    "                \"item\":\n",
    "                {\n",
    "                \"@id\": \"https://www.momoshop.com.tw\",\n",
    "                \"name\": \"momo購物網\"\n",
    "                }\n",
    "              },\n",
    "              {\n",
    "                \"@type\": \"ListItem\",\n",
    "              \"position\": 2,\n",
    "              \"item\":\n",
    "                {\n",
    "                  \"@id\": \"https://www.momoshop.com.tw/mosearch/汽車手機支架\",\n",
    "                  \"name\": \"汽車手機支架\"\n",
    "                }\n",
    "              }\n",
    "              ,\n",
    "            ]\n",
    "          }\n",
    "  // 以下忽略\n",
    "</script>\n",
    "\n",
    "看起來有產品資訊，可以直接用這個轉產品清單嗎？\n",
    "```"
   ]
  },
  {
   "cell_type": "code",
   "execution_count": 5,
   "id": "b88a8853",
   "metadata": {},
   "outputs": [
    {
     "ename": "JSONDecodeError",
     "evalue": "Expecting value: line 30 column 13 (char 811)",
     "output_type": "error",
     "traceback": [
      "\u001b[31m---------------------------------------------------------------------------\u001b[39m",
      "\u001b[31mJSONDecodeError\u001b[39m                           Traceback (most recent call last)",
      "\u001b[36mCell\u001b[39m\u001b[36m \u001b[39m\u001b[32mIn[5]\u001b[39m\u001b[32m, line 12\u001b[39m\n\u001b[32m     10\u001b[39m script_tag = soup.find(\u001b[33m\"\u001b[39m\u001b[33mscript\u001b[39m\u001b[33m\"\u001b[39m, \u001b[38;5;28mtype\u001b[39m=\u001b[33m\"\u001b[39m\u001b[33mapplication/ld+json\u001b[39m\u001b[33m\"\u001b[39m)\n\u001b[32m     11\u001b[39m \u001b[38;5;28;01mif\u001b[39;00m script_tag:\n\u001b[32m---> \u001b[39m\u001b[32m12\u001b[39m     data = \u001b[43mjson\u001b[49m\u001b[43m.\u001b[49m\u001b[43mloads\u001b[49m\u001b[43m(\u001b[49m\u001b[43mscript_tag\u001b[49m\u001b[43m.\u001b[49m\u001b[43mstring\u001b[49m\u001b[43m)\u001b[49m\n\u001b[32m     13\u001b[39m     products = data.get(\u001b[33m\"\u001b[39m\u001b[33mmainEntity\u001b[39m\u001b[33m\"\u001b[39m, {}).get(\u001b[33m\"\u001b[39m\u001b[33mitemListElement\u001b[39m\u001b[33m\"\u001b[39m, [])\n\u001b[32m     15\u001b[39m     product_list = []\n",
      "\u001b[36mFile \u001b[39m\u001b[32m/usr/local/lib/python3.12/json/__init__.py:346\u001b[39m, in \u001b[36mloads\u001b[39m\u001b[34m(s, cls, object_hook, parse_float, parse_int, parse_constant, object_pairs_hook, **kw)\u001b[39m\n\u001b[32m    341\u001b[39m     s = s.decode(detect_encoding(s), \u001b[33m'\u001b[39m\u001b[33msurrogatepass\u001b[39m\u001b[33m'\u001b[39m)\n\u001b[32m    343\u001b[39m \u001b[38;5;28;01mif\u001b[39;00m (\u001b[38;5;28mcls\u001b[39m \u001b[38;5;129;01mis\u001b[39;00m \u001b[38;5;28;01mNone\u001b[39;00m \u001b[38;5;129;01mand\u001b[39;00m object_hook \u001b[38;5;129;01mis\u001b[39;00m \u001b[38;5;28;01mNone\u001b[39;00m \u001b[38;5;129;01mand\u001b[39;00m\n\u001b[32m    344\u001b[39m         parse_int \u001b[38;5;129;01mis\u001b[39;00m \u001b[38;5;28;01mNone\u001b[39;00m \u001b[38;5;129;01mand\u001b[39;00m parse_float \u001b[38;5;129;01mis\u001b[39;00m \u001b[38;5;28;01mNone\u001b[39;00m \u001b[38;5;129;01mand\u001b[39;00m\n\u001b[32m    345\u001b[39m         parse_constant \u001b[38;5;129;01mis\u001b[39;00m \u001b[38;5;28;01mNone\u001b[39;00m \u001b[38;5;129;01mand\u001b[39;00m object_pairs_hook \u001b[38;5;129;01mis\u001b[39;00m \u001b[38;5;28;01mNone\u001b[39;00m \u001b[38;5;129;01mand\u001b[39;00m \u001b[38;5;129;01mnot\u001b[39;00m kw):\n\u001b[32m--> \u001b[39m\u001b[32m346\u001b[39m     \u001b[38;5;28;01mreturn\u001b[39;00m \u001b[43m_default_decoder\u001b[49m\u001b[43m.\u001b[49m\u001b[43mdecode\u001b[49m\u001b[43m(\u001b[49m\u001b[43ms\u001b[49m\u001b[43m)\u001b[49m\n\u001b[32m    347\u001b[39m \u001b[38;5;28;01mif\u001b[39;00m \u001b[38;5;28mcls\u001b[39m \u001b[38;5;129;01mis\u001b[39;00m \u001b[38;5;28;01mNone\u001b[39;00m:\n\u001b[32m    348\u001b[39m     \u001b[38;5;28mcls\u001b[39m = JSONDecoder\n",
      "\u001b[36mFile \u001b[39m\u001b[32m/usr/local/lib/python3.12/json/decoder.py:338\u001b[39m, in \u001b[36mJSONDecoder.decode\u001b[39m\u001b[34m(self, s, _w)\u001b[39m\n\u001b[32m    333\u001b[39m \u001b[38;5;28;01mdef\u001b[39;00m\u001b[38;5;250m \u001b[39m\u001b[34mdecode\u001b[39m(\u001b[38;5;28mself\u001b[39m, s, _w=WHITESPACE.match):\n\u001b[32m    334\u001b[39m \u001b[38;5;250m    \u001b[39m\u001b[33;03m\"\"\"Return the Python representation of ``s`` (a ``str`` instance\u001b[39;00m\n\u001b[32m    335\u001b[39m \u001b[33;03m    containing a JSON document).\u001b[39;00m\n\u001b[32m    336\u001b[39m \n\u001b[32m    337\u001b[39m \u001b[33;03m    \"\"\"\u001b[39;00m\n\u001b[32m--> \u001b[39m\u001b[32m338\u001b[39m     obj, end = \u001b[38;5;28;43mself\u001b[39;49m\u001b[43m.\u001b[49m\u001b[43mraw_decode\u001b[49m\u001b[43m(\u001b[49m\u001b[43ms\u001b[49m\u001b[43m,\u001b[49m\u001b[43m \u001b[49m\u001b[43midx\u001b[49m\u001b[43m=\u001b[49m\u001b[43m_w\u001b[49m\u001b[43m(\u001b[49m\u001b[43ms\u001b[49m\u001b[43m,\u001b[49m\u001b[43m \u001b[49m\u001b[32;43m0\u001b[39;49m\u001b[43m)\u001b[49m\u001b[43m.\u001b[49m\u001b[43mend\u001b[49m\u001b[43m(\u001b[49m\u001b[43m)\u001b[49m\u001b[43m)\u001b[49m\n\u001b[32m    339\u001b[39m     end = _w(s, end).end()\n\u001b[32m    340\u001b[39m     \u001b[38;5;28;01mif\u001b[39;00m end != \u001b[38;5;28mlen\u001b[39m(s):\n",
      "\u001b[36mFile \u001b[39m\u001b[32m/usr/local/lib/python3.12/json/decoder.py:356\u001b[39m, in \u001b[36mJSONDecoder.raw_decode\u001b[39m\u001b[34m(self, s, idx)\u001b[39m\n\u001b[32m    354\u001b[39m     obj, end = \u001b[38;5;28mself\u001b[39m.scan_once(s, idx)\n\u001b[32m    355\u001b[39m \u001b[38;5;28;01mexcept\u001b[39;00m \u001b[38;5;167;01mStopIteration\u001b[39;00m \u001b[38;5;28;01mas\u001b[39;00m err:\n\u001b[32m--> \u001b[39m\u001b[32m356\u001b[39m     \u001b[38;5;28;01mraise\u001b[39;00m JSONDecodeError(\u001b[33m\"\u001b[39m\u001b[33mExpecting value\u001b[39m\u001b[33m\"\u001b[39m, s, err.value) \u001b[38;5;28;01mfrom\u001b[39;00m\u001b[38;5;250m \u001b[39m\u001b[38;5;28;01mNone\u001b[39;00m\n\u001b[32m    357\u001b[39m \u001b[38;5;28;01mreturn\u001b[39;00m obj, end\n",
      "\u001b[31mJSONDecodeError\u001b[39m: Expecting value: line 30 column 13 (char 811)"
     ]
    }
   ],
   "source": [
    "import json\n",
    "from bs4 import BeautifulSoup\n",
    "\n",
    "# 假設 html 是你從 Playwright 拿到的整頁 HTML 字串\n",
    "html = open(\"momo_search.html\", encoding=\"utf-8\").read()\n",
    "\n",
    "soup = BeautifulSoup(html, \"html.parser\")\n",
    "\n",
    "# 找出 <script type=\"application/ld+json\"> 標籤\n",
    "script_tag = soup.find(\"script\", type=\"application/ld+json\")\n",
    "if script_tag:\n",
    "    data = json.loads(script_tag.string)\n",
    "    products = data.get(\"mainEntity\", {}).get(\"itemListElement\", [])\n",
    "    \n",
    "    product_list = []\n",
    "    for p in products:\n",
    "        product = {\n",
    "            \"name\": p.get(\"name\"),\n",
    "            \"price\": p.get(\"offers\", {}).get(\"price\"),\n",
    "            \"currency\": p.get(\"offers\", {}).get(\"priceCurrency\"),\n",
    "            \"url\": p.get(\"url\"),\n",
    "            \"image\": p.get(\"image\"),\n",
    "            \"description\": p.get(\"description\")\n",
    "        }\n",
    "        product_list.append(product)\n",
    "    \n",
    "    # product_list 就是你想要的產品清單\n",
    "    print(product_list)\n",
    "else:\n",
    "    print(\"找不到 JSON-LD 結構化資料\")\n"
   ]
  },
  {
   "cell_type": "markdown",
   "id": "0ab2787b",
   "metadata": {},
   "source": [
    "> 出現  \n",
    "JSONDecodeError: Expecting value: line 30 column 13 (char 811)"
   ]
  },
  {
   "cell_type": "code",
   "execution_count": 6,
   "id": "cecfc13e",
   "metadata": {},
   "outputs": [
    {
     "name": "stdout",
     "output_type": "stream",
     "text": [
      "Defaulting to user installation because normal site-packages is not writeable\n",
      "Requirement already satisfied: json5 in /home/vscode/.local/lib/python3.12/site-packages (0.12.0)\n",
      "\n",
      "\u001b[1m[\u001b[0m\u001b[34;49mnotice\u001b[0m\u001b[1;39;49m]\u001b[0m\u001b[39;49m A new release of pip is available: \u001b[0m\u001b[31;49m25.0.1\u001b[0m\u001b[39;49m -> \u001b[0m\u001b[32;49m25.1.1\u001b[0m\n",
      "\u001b[1m[\u001b[0m\u001b[34;49mnotice\u001b[0m\u001b[1;39;49m]\u001b[0m\u001b[39;49m To update, run: \u001b[0m\u001b[32;49mpip install --upgrade pip\u001b[0m\n"
     ]
    }
   ],
   "source": [
    "!pip install json5"
   ]
  },
  {
   "cell_type": "code",
   "execution_count": 1,
   "id": "68797040",
   "metadata": {},
   "outputs": [
    {
     "name": "stdout",
     "output_type": "stream",
     "text": [
      "[{'name': '【KT BIKER】RX 23-25年 14吋螢幕底座+M3無線充黑(Lexus 螢幕手機架 專用手機架 車用手機架)', 'price': '699', 'currency': 'TWD', 'url': 'https://www.momoshop.com.tw/goods/GoodsDetail.jsp?i_code=14037410&Area=search&mdiv=403&oid=1_1&cid=index&kw=%E6%B1%BD%E8%BB%8A%E6%89%8B%E6%A9%9F%E6%94%AF%E6%9E%B6', 'image': 'https://img1.momoshop.com.tw/goodsimg/0014/037/410/14037410_OL.jpg?t=1747795659', 'description': '滿1件享8折'}, {'name': '【KT BIKER】SantaFe 2025年 12.3吋螢幕底座+M3無線充黑(現代 專用手機架 螢幕手機架 車用手機架)', 'price': '699', 'currency': 'TWD', 'url': 'https://www.momoshop.com.tw/goods/GoodsDetail.jsp?i_code=14037419&Area=search&mdiv=403&oid=1_2&cid=index&kw=%E6%B1%BD%E8%BB%8A%E6%89%8B%E6%A9%9F%E6%94%AF%E6%9E%B6', 'image': 'https://img1.momoshop.com.tw/goodsimg/0014/037/419/14037419_OL.jpg?t=1747795668', 'description': '滿1件享8折'}, {'name': '【KT BIKER】RX 23-25年 14吋螢幕底座+MagSafe磁吸座(Lexus 螢幕手機架 專用手機架 車用手機架)', 'price': '798', 'currency': 'TWD', 'url': 'https://www.momoshop.com.tw/goods/GoodsDetail.jsp?i_code=14037412&Area=search&mdiv=403&oid=1_3&cid=index&kw=%E6%B1%BD%E8%BB%8A%E6%89%8B%E6%A9%9F%E6%94%AF%E6%9E%B6', 'image': 'https://img1.momoshop.com.tw/goodsimg/0014/037/412/14037412_OL.jpg?t=1747795662', 'description': '滿1件享8折'}, {'name': '【KT BIKER】MagSafe 無線充電車用手機架(無線快充 汽車手機架 車用手機架)', 'price': '899', 'currency': 'TWD', 'url': 'https://www.momoshop.com.tw/goods/GoodsDetail.jsp?i_code=13149874&Area=search&mdiv=403&oid=1_4&cid=index&kw=%E6%B1%BD%E8%BB%8A%E6%89%8B%E6%A9%9F%E6%94%AF%E6%9E%B6', 'image': 'https://img1.momoshop.com.tw/goodsimg/0013/149/874/13149874_OL.jpg?t=1723784647', 'description': 'MagSafe無線快充，方便快'}, {'name': '【舜威】360度超穩固手機支架 延長臂不擋出風口 金屬鈎夾不脫落 支援橫屏 汽車用手機架 導航車架', 'price': '231', 'currency': 'TWD', 'url': 'https://www.momoshop.com.tw/goods/GoodsDetail.jsp?i_code=11646283&Area=search&mdiv=403&oid=1_5&cid=index&kw=%E6%B1%BD%E8%BB%8A%E6%89%8B%E6%A9%9F%E6%94%AF%E6%9E%B6', 'image': 'https://img1.momoshop.com.tw/goodsimg/0011/646/283/11646283_OL.jpg?t=1692559950', 'description': '滿1件享8折'}, {'name': '第三代儀表板手機支架 1200°旋轉傾倒 汽車手機架 車用導航支架 臨時停車牌 夾式支架', 'price': '186', 'currency': 'TWD', 'url': 'https://www.momoshop.com.tw/goods/GoodsDetail.jsp?i_code=8314945&Area=search&mdiv=403&oid=1_6&cid=index&kw=%E6%B1%BD%E8%BB%8A%E6%89%8B%E6%A9%9F%E6%94%AF%E6%9E%B6', 'image': 'https://img1.momoshop.com.tw/goodsimg/0008/314/945/8314945_OL.jpg?t=1692983347', 'description': '滿1件享8折'}, {'name': '【itop】機械真空吸盤手機支架 720度三軸旋轉折疊 鋅合金支撐桿 汽車用磁吸手機架 magsafe桌面支架', 'price': '439', 'currency': 'TWD', 'url': 'https://www.momoshop.com.tw/goods/GoodsDetail.jsp?i_code=13904613&Area=search&mdiv=403&oid=1_7&cid=index&kw=%E6%B1%BD%E8%BB%8A%E6%89%8B%E6%A9%9F%E6%94%AF%E6%9E%B6', 'image': 'https://img1.momoshop.com.tw/goodsimg/0013/904/613/13904613_OL.jpg?t=1744697000', 'description': '機械真空吸盤 多位置輕鬆固定'}, {'name': '【聆翔】【保固+免運費】無線車用手機架(汽車手機架 車用支架 手機支架 快充)', 'price': '599', 'currency': 'TWD', 'url': 'https://www.momoshop.com.tw/goods/GoodsDetail.jsp?i_code=11138301&Area=search&mdiv=403&oid=1_8&cid=index&kw=%E6%B1%BD%E8%BB%8A%E6%89%8B%E6%A9%9F%E6%94%AF%E6%9E%B6', 'image': 'https://img1.momoshop.com.tw/goodsimg/0011/138/301/11138301_OL.jpg?t=1710478970', 'description': '滿1件享75折'}, {'name': '【KEYIE】汽車吸盤式手機支架 車用導航支架 萬向出風口支架 儀錶台手機支架(360度調整 支持橫/豎屏)', 'price': '274', 'currency': 'TWD', 'url': 'https://www.momoshop.com.tw/goods/GoodsDetail.jsp?i_code=11452917&Area=search&mdiv=403&oid=1_9&cid=index&kw=%E6%B1%BD%E8%BB%8A%E6%89%8B%E6%A9%9F%E6%94%AF%E6%9E%B6', 'image': 'https://img1.momoshop.com.tw/goodsimg/0011/452/917/11452917_OL.jpg?t=1720681812', 'description': '滿1件享85折'}, {'name': '【BASEUS】金屬時代Go 汽車重力感應出風口車載支架 車用導航支架 360°旋轉手機支架', 'price': '390', 'currency': 'TWD', 'url': 'https://www.momoshop.com.tw/goods/GoodsDetail.jsp?i_code=13498602&Area=search&mdiv=403&oid=1_10&cid=index&kw=%E6%B1%BD%E8%BB%8A%E6%89%8B%E6%A9%9F%E6%94%AF%E6%9E%B6', 'image': 'https://img1.momoshop.com.tw/goodsimg/0013/498/602/13498602_OL.jpg?t=1732943072', 'description': '滿1件享85折'}, {'name': '【Raku】真空吸盤手機支架 雙向穩固吸附 多角度折疊伸縮 汽車用iphone磁吸手機架 magsafe桌面支架', 'price': '279', 'currency': 'TWD', 'url': 'https://www.momoshop.com.tw/goods/GoodsDetail.jsp?i_code=13876548&Area=search&mdiv=403&oid=1_11&cid=index&kw=%E6%B1%BD%E8%BB%8A%E6%89%8B%E6%A9%9F%E6%94%AF%E6%9E%B6', 'image': 'https://img1.momoshop.com.tw/goodsimg/0013/876/548/13876548_OL.jpg?t=1744077176', 'description': '雙向吸附 適用任何光滑表面'}, {'name': '【LCARS】第五代儀表板手機支架 1800°無死角萬向旋轉 後推傾倒 重力汽車手機架 車用夾式導航支架', 'price': '255', 'currency': 'TWD', 'url': 'https://www.momoshop.com.tw/goods/GoodsDetail.jsp?i_code=13603631&Area=search&mdiv=403&oid=1_12&cid=index&kw=%E6%B1%BD%E8%BB%8A%E6%89%8B%E6%A9%9F%E6%94%AF%E6%9E%B6', 'image': 'https://img1.momoshop.com.tw/goodsimg/0013/603/631/13603631_OL.jpg?t=1735967078', 'description': '滿1件享8折'}, {'name': '【居家新生活】車用手機架 後照鏡支架(手機支架 汽車導航支架 手機座 手機導航 車載支架)', 'price': '367', 'currency': 'TWD', 'url': 'https://www.momoshop.com.tw/goods/GoodsDetail.jsp?i_code=10347725&Area=search&mdiv=403&oid=1_13&cid=index&kw=%E6%B1%BD%E8%BB%8A%E6%89%8B%E6%A9%9F%E6%94%AF%E6%9E%B6', 'image': 'https://img1.momoshop.com.tw/goodsimg/0010/347/725/10347725_OL.jpg?t=1703582804', 'description': '滿1件享75折'}, {'name': '【Pipe】360度長臂Magsafe磁吸手機支架 超穩固不擋出風口 金屬伸縮鈎夾不脫落 汽車用手機架導航車架', 'price': '311', 'currency': 'TWD', 'url': 'https://www.momoshop.com.tw/goods/GoodsDetail.jsp?i_code=11991128&Area=search&mdiv=403&oid=1_14&cid=index&kw=%E6%B1%BD%E8%BB%8A%E6%89%8B%E6%A9%9F%E6%94%AF%E6%9E%B6', 'image': 'https://img1.momoshop.com.tw/goodsimg/0011/991/128/11991128_OL.jpg?t=1698657813', 'description': '滿1件享8折'}, {'name': '【KEYIE】汽車中控台導航手機支架 360度旋轉車用手機架 儀錶板支架 吸盤式車載支架', 'price': '559', 'currency': 'TWD', 'url': 'https://www.momoshop.com.tw/goods/GoodsDetail.jsp?i_code=13950775&Area=search&mdiv=403&oid=1_15&cid=index&kw=%E6%B1%BD%E8%BB%8A%E6%89%8B%E6%A9%9F%E6%94%AF%E6%9E%B6', 'image': 'https://img1.momoshop.com.tw/goodsimg/0013/950/775/13950775_OL.jpg?t=1745567533', 'description': '滿1件享8折'}, {'name': '【舒獅尚】第四代記憶夾臂儀表板手機支架 1200°旋轉傾倒 汽車手機架 夾式車用導航支架 臨時停車牌', 'price': '254', 'currency': 'TWD', 'url': 'https://www.momoshop.com.tw/goods/GoodsDetail.jsp?i_code=9175390&Area=search&mdiv=403&oid=1_16&cid=index&kw=%E6%B1%BD%E8%BB%8A%E6%89%8B%E6%A9%9F%E6%94%AF%E6%9E%B6', 'image': 'https://img1.momoshop.com.tw/goodsimg/0009/175/390/9175390_OL.jpg?t=1693061637', 'description': '滿1件享85折'}, {'name': '【KEYIE】汽車伸縮吸盤式導航手機支架 車用手機架 直播拍攝用支架(家用/車用)', 'price': '475', 'currency': 'TWD', 'url': 'https://www.momoshop.com.tw/goods/GoodsDetail.jsp?i_code=12313609&Area=search&mdiv=403&oid=1_17&cid=index&kw=%E6%B1%BD%E8%BB%8A%E6%89%8B%E6%A9%9F%E6%94%AF%E6%9E%B6', 'image': 'https://img1.momoshop.com.tw/goodsimg/0012/313/609/12313609_OL.jpg?t=1716288250', 'description': '滿1件享85折'}, {'name': '【貼膜達人】手機支架 磁吸真空手機支架 車載 車用 懶人 真空吸附+磁吸吸盤 汽車 儀表板手機架', 'price': '$229', 'currency': 'TWD', 'url': ' https://www.momoshop.com.tw/TP/TP0001546/goodsDetail/TP00015460001352', 'image': 'https://i7.momoshop.com.tw/1749532854/goodsimg/TP000/1546/0001/352/TP00015460001352_O_m.jpg', 'description': '一秒秒吸 一秒解'}, {'name': '【KEYIE】360度超穩固手機支架 汽車用手機架 導航車架(延長臂不擋出風口/鷹嘴掛鉤不脫落)', 'price': '305', 'currency': 'TWD', 'url': 'https://www.momoshop.com.tw/goods/GoodsDetail.jsp?i_code=12951391&Area=search&mdiv=403&oid=1_18&cid=index&kw=%E6%B1%BD%E8%BB%8A%E6%89%8B%E6%A9%9F%E6%94%AF%E6%9E%B6', 'image': 'https://img1.momoshop.com.tw/goodsimg/0012/951/391/12951391_OL.jpg?t=1718427788', 'description': '滿1件享85折'}, {'name': '【Philips 飛利浦】汽車720度中控台導航手機支架(DLK3605)', 'price': '299', 'currency': 'TWD', 'url': 'https://www.momoshop.com.tw/goods/GoodsDetail.jsp?i_code=12428117&Area=search&mdiv=403&oid=1_19&cid=index&kw=%E6%B1%BD%E8%BB%8A%E6%89%8B%E6%A9%9F%E6%94%AF%E6%9E%B6', 'image': 'https://img1.momoshop.com.tw/goodsimg/0012/428/117/12428117_OL.jpg?t=1705487748', 'description': '環抱手機架設計，急煞車手機不掉'}, {'name': '【Lisen】Magsafe環月磁吸支架(汽車支架/手機支架/磁吸支架)', 'price': '559', 'currency': 'TWD', 'url': 'https://www.momoshop.com.tw/goods/GoodsDetail.jsp?i_code=11386945&Area=search&mdiv=403&oid=1_20&cid=index&kw=%E6%B1%BD%E8%BB%8A%E6%89%8B%E6%A9%9F%E6%94%AF%E6%9E%B6', 'image': 'https://img1.momoshop.com.tw/goodsimg/0011/386/945/11386945_OL.jpg?t=1692469338', 'description': '滿1件享8折'}, {'name': '【Tourway】2入 第三代儀表板手機支架 1200°旋轉傾倒 汽車手機架 車用導航支架 臨時停車牌 夾式支架', 'price': '374', 'currency': 'TWD', 'url': 'https://www.momoshop.com.tw/goods/GoodsDetail.jsp?i_code=8764777&Area=search&mdiv=403&oid=1_21&cid=index&kw=%E6%B1%BD%E8%BB%8A%E6%89%8B%E6%A9%9F%E6%94%AF%E6%9E%B6', 'image': 'https://img1.momoshop.com.tw/goodsimg/0008/764/777/8764777_OL.jpg?t=1693062621', 'description': '滿1件享9折'}, {'name': '【Philo 飛樂】官方店 Qi2/15W/半導體製冷磁吸 車用支架/散熱/磁吸手機架(CW15/汽車手機架/贈環形貼片1入)', 'price': '1280', 'currency': 'TWD', 'url': 'https://www.momoshop.com.tw/goods/GoodsDetail.jsp?i_code=12522293&Area=search&mdiv=403&oid=1_22&cid=index&kw=%E6%B1%BD%E8%BB%8A%E6%89%8B%E6%A9%9F%E6%94%AF%E6%9E%B6', 'image': 'https://img1.momoshop.com.tw/goodsimg/0012/522/293/12522293_OL.jpg?t=1742014861', 'description': '滿1件享95折'}, {'name': '【Focus】Corolla cross 專用 汽車手機架 車用手機架 車載支架 車用支架 螢幕式 手機架 S+ cc 配件 改裝手機支架/真卡扣/螢幕式/toyota', 'price': '$1,100', 'currency': 'TWD', 'url': ' https://www.momoshop.com.tw/TP/TP0001274/goodsDetail/TP00012740000002', 'image': 'https://i5.momoshop.com.tw/1749532854/goodsimg/TP000/1274/0000/002/TP00012740000002_O_m.jpg', 'description': 'Corolla cross專用'}, {'name': '【MUAN】汽車懸浮屏卡扣式磁吸支架 車載用Magsafe手機支架(車用手機架 手機導航 車載支架)', 'price': '399', 'currency': 'TWD', 'url': 'https://www.momoshop.com.tw/goods/GoodsDetail.jsp?i_code=13525289&Area=search&mdiv=403&oid=1_23&cid=index&kw=%E6%B1%BD%E8%BB%8A%E6%89%8B%E6%A9%9F%E6%94%AF%E6%9E%B6', 'image': 'https://img1.momoshop.com.tw/goodsimg/0013/525/289/13525289_OL.jpg?t=1733807084', 'description': '滿1件享8折'}, {'name': '通用超穩磁吸手機架 手機支架 汽車磁吸支架 magsafe支架 直播手機支架 三折疊延伸👍萬向旋轉 手機架 手機支架', 'price': '$495', 'currency': 'TWD', 'url': ' https://www.momoshop.com.tw/TP/TP0000661/goodsDetail/TP00006610000277', 'image': 'https://i6.momoshop.com.tw/1749532854/goodsimg/TP000/0661/0000/277/TP00006610000277_O_m.jpg', 'description': '全場滿1000元：（免運費）'}, {'name': '【案木ANMU】第四代重力車架 鋁合金拋光 重力聯動設計 鐵爪出風口汽車用手機架手機支架(重力支架)', 'price': '175', 'currency': 'TWD', 'url': 'https://www.momoshop.com.tw/goods/GoodsDetail.jsp?i_code=7378207&Area=search&mdiv=403&oid=1_24&cid=index&kw=%E6%B1%BD%E8%BB%8A%E6%89%8B%E6%A9%9F%E6%94%AF%E6%9E%B6', 'image': 'https://img1.momoshop.com.tw/goodsimg/0007/378/207/7378207_OL.jpg?t=1692811693', 'description': '滿1件享8折'}, {'name': '【City.One】Magsafe 車用磁吸手機架 汽車導航支架(磁吸車架 車用手機架 手機支架 汽車手機架 磁吸支架)', 'price': '464', 'currency': 'TWD', 'url': 'https://www.momoshop.com.tw/goods/GoodsDetail.jsp?i_code=12563900&Area=search&mdiv=403&oid=1_25&cid=index&kw=%E6%B1%BD%E8%BB%8A%E6%89%8B%E6%A9%9F%E6%94%AF%E6%9E%B6', 'image': 'https://img1.momoshop.com.tw/goodsimg/0012/563/900/12563900_OL.jpg?t=1708750987', 'description': '滿1件享75折'}, {'name': '【yesido】吸盤式車用手機支架 360度萬向旋轉汽車用導航支架 手機架 中控臺磁吸支架 車載支架', 'price': '475', 'currency': 'TWD', 'url': 'https://www.momoshop.com.tw/goods/GoodsDetail.jsp?i_code=13801992&Area=search&mdiv=403&oid=1_26&cid=index&kw=%E6%B1%BD%E8%BB%8A%E6%89%8B%E6%A9%9F%E6%94%AF%E6%9E%B6', 'image': 'https://img1.momoshop.com.tw/goodsimg/0013/801/992/13801992_OL.jpg?t=1741948621', 'description': '滿1件享85折'}, {'name': '【Lisen】穿月磁吸汽車支架(出風口手機架/汽車手機架/手機架/導航支架/Magsafe)', 'price': '524', 'currency': 'TWD', 'url': 'https://www.momoshop.com.tw/goods/GoodsDetail.jsp?i_code=13118945&Area=search&mdiv=403&oid=1_27&cid=index&kw=%E6%B1%BD%E8%BB%8A%E6%89%8B%E6%A9%9F%E6%94%AF%E6%9E%B6', 'image': 'https://img1.momoshop.com.tw/goodsimg/0013/118/945/13118945_OL.jpg?t=1723093608', 'description': '滿1件享75折'}]\n"
     ]
    }
   ],
   "source": [
    "import json5\n",
    "from bs4 import BeautifulSoup\n",
    "\n",
    "html = open(\"momo_search.html\", encoding=\"utf-8\").read()\n",
    "soup = BeautifulSoup(html, \"html.parser\")\n",
    "script_tag = soup.find(\"script\", type=\"application/ld+json\")\n",
    "\n",
    "if script_tag:\n",
    "    data = json5.loads(script_tag.string)  # 這裡用 json5 代替 json\n",
    "    products = data.get(\"mainEntity\", {}).get(\"itemListElement\", [])\n",
    "    product_list = []\n",
    "    for p in products:\n",
    "        product = {\n",
    "            \"name\": p.get(\"name\"),\n",
    "            \"price\": p.get(\"offers\", {}).get(\"price\"),\n",
    "            \"currency\": p.get(\"offers\", {}).get(\"priceCurrency\"),\n",
    "            \"url\": p.get(\"url\"),\n",
    "            \"image\": p.get(\"image\"),\n",
    "            \"description\": p.get(\"description\")\n",
    "        }\n",
    "        product_list.append(product)\n",
    "    print(product_list)\n",
    "else:\n",
    "    print(\"找不到 JSON-LD\")\n"
   ]
  },
  {
   "cell_type": "code",
   "execution_count": 9,
   "id": "ec1e797f",
   "metadata": {},
   "outputs": [
    {
     "name": "stdout",
     "output_type": "stream",
     "text": [
      "[{'@type': 'Product',\n",
      "  'description': '滿1件享8折',\n",
      "  'image': 'https://img1.momoshop.com.tw/goodsimg/0014/037/410/14037410_OL.jpg?t=1747795659',\n",
      "  'name': '【KT BIKER】RX 23-25年 14吋螢幕底座+M3無線充黑(Lexus 螢幕手機架 專用手機架 車用手機架)',\n",
      "  'offers': {'@type': 'Offer',\n",
      "             'availability': 'https://schema.org/InStock',\n",
      "             'price': '699',\n",
      "             'priceCurrency': 'TWD'},\n",
      "  'position': '1',\n",
      "  'url': 'https://www.momoshop.com.tw/goods/GoodsDetail.jsp?i_code=14037410&Area=search&mdiv=403&oid=1_1&cid=index&kw=%E6%B1%BD%E8%BB%8A%E6%89%8B%E6%A9%9F%E6%94%AF%E6%9E%B6'},\n",
      " {'@type': 'Product',\n",
      "  'description': '滿1件享8折',\n",
      "  'image': 'https://img1.momoshop.com.tw/goodsimg/0014/037/419/14037419_OL.jpg?t=1747795668',\n",
      "  'name': '【KT BIKER】SantaFe 2025年 12.3吋螢幕底座+M3無線充黑(現代 專用手機架 螢幕手機架 車用手機架)',\n",
      "  'offers': {'@type': 'Offer',\n",
      "             'availability': 'https://schema.org/InStock',\n",
      "             'price': '699',\n",
      "             'priceCurrency': 'TWD'},\n",
      "  'position': '2',\n",
      "  'url': 'https://www.momoshop.com.tw/goods/GoodsDetail.jsp?i_code=14037419&Area=search&mdiv=403&oid=1_2&cid=index&kw=%E6%B1%BD%E8%BB%8A%E6%89%8B%E6%A9%9F%E6%94%AF%E6%9E%B6'},\n",
      " {'@type': 'Product',\n",
      "  'description': '滿1件享8折',\n",
      "  'image': 'https://img1.momoshop.com.tw/goodsimg/0014/037/412/14037412_OL.jpg?t=1747795662',\n",
      "  'name': '【KT BIKER】RX 23-25年 14吋螢幕底座+MagSafe磁吸座(Lexus 螢幕手機架 專用手機架 車用手機架)',\n",
      "  'offers': {'@type': 'Offer',\n",
      "             'availability': 'https://schema.org/InStock',\n",
      "             'price': '798',\n",
      "             'priceCurrency': 'TWD'},\n",
      "  'position': '3',\n",
      "  'url': 'https://www.momoshop.com.tw/goods/GoodsDetail.jsp?i_code=14037412&Area=search&mdiv=403&oid=1_3&cid=index&kw=%E6%B1%BD%E8%BB%8A%E6%89%8B%E6%A9%9F%E6%94%AF%E6%9E%B6'}]\n"
     ]
    }
   ],
   "source": [
    "# 看一下前 3 筆資料\n",
    "from pprint import pprint\n",
    "pprint(products[:3])"
   ]
  }
 ],
 "metadata": {
  "kernelspec": {
   "display_name": "Python 3",
   "language": "python",
   "name": "python3"
  },
  "language_info": {
   "codemirror_mode": {
    "name": "ipython",
    "version": 3
   },
   "file_extension": ".py",
   "mimetype": "text/x-python",
   "name": "python",
   "nbconvert_exporter": "python",
   "pygments_lexer": "ipython3",
   "version": "3.12.10"
  }
 },
 "nbformat": 4,
 "nbformat_minor": 5
}
